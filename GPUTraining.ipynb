{
 "cells": [
  {
   "cell_type": "code",
   "execution_count": 2,
   "metadata": {
    "collapsed": false
   },
   "outputs": [
    {
     "name": "stderr",
     "output_type": "stream",
     "text": [
      "Vendor:  Continuum Analytics, Inc.\n",
      "Package: mkl\n",
      "Message: trial mode expires in 30 days\n"
     ]
    }
   ],
   "source": [
    "import numpy as np\n",
    "from pylab import imshow, show\n",
    "from timeit import default_timer as timer\n",
    "from numba import autojit\n",
    "\n",
    "from accelerate import cuda\n",
    "from numba import *"
   ]
  },
  {
   "cell_type": "code",
   "execution_count": 34,
   "metadata": {
    "collapsed": false
   },
   "outputs": [],
   "source": [
    "grid_size_x              = 128;\n",
    "grid_size_y              = 1024;\n",
    "inlet_velocity           = 0.1;\n",
    "directions               = 9;\n",
    "directional_weights      = np.array([16,4,1,4,1,4,1,4,1]) / 36;\n",
    "unit_x_velocities        = np.array([0, 1, 1, 0, -1, -1, -1, 0, 1]);\n",
    "unit_y_velocities        = np.array([0, 0, 1, 1, 1, 0, -1, -1, -1]);\n",
    "ei                       = np.stack((unit_x_velocities, unit_y_velocities));\n",
    "\n",
    "x = np.linspace(0,1,grid_size_x);\n",
    "y = np.linspace(0,1,grid_size_y);\n",
    "[X,Y] = np.meshgrid(x,y);\n",
    "\n",
    "U = np.ones((X.shape[0], X.shape[1], 2)) * inlet_velocity;"
   ]
  },
  {
   "cell_type": "code",
   "execution_count": 25,
   "metadata": {
    "collapsed": false
   },
   "outputs": [],
   "source": [
    "def equil(a,b,c,w,rho):\n",
    "    f_eq = w * rho * (\n",
    "    1 + \n",
    "    3.0 * a +\n",
    "    4.5 * b +\n",
    "    1.5 * c\n",
    "    );\n",
    "    return f_eq;\n",
    "\n",
    "equil_gpu = cuda.jit(resttype=float64, argtypes=[float64,float64,float64,float64,float64], device=True)(equil)\n",
    "\n",
    "@cuda.jit(argtypes=[float64[:,:,:], float64[:,:,:], float64[:,:], float64[:,:], float64[:,:,:], float64[:]])\n",
    "def equil_kernel(a, b, c, rho, f_prev, w):\n",
    "    \n",
    "    width = U.shape[0];\n",
    "    height = U.shape[1];\n",
    "    \n",
    "    startX, startY = cuda.grid(2);\n",
    "    gridX = cuda.gridDim.x * cuda.blockDim.x;\n",
    "    gridY = cuda.gridDim.y * cuda.blockDim.y;\n",
    "    for i in range(0,9):\n",
    "        for x in range(startX, width, gridX):\n",
    "            for y in range(startY, height, gridY):\n",
    "                a_send = a[x,y,i];\n",
    "                b_send = b[x,y,i];\n",
    "                c_send = c[x,y];\n",
    "                w_send = w[i];\n",
    "                r_send = rho[x,y];\n",
    "                f_prev[x, y, i] = equil_gpu(a_send, b_send, c_send, w_send, r_send);"
   ]
  },
  {
   "cell_type": "code",
   "execution_count": 97,
   "metadata": {
    "collapsed": false
   },
   "outputs": [
    {
     "name": "stdout",
     "output_type": "stream",
     "text": [
      "0.04015848321338922\n"
     ]
    }
   ],
   "source": [
    "f_init = np.zeros((X.shape[0], X.shape[1], directions))\n",
    "f_prev = np.zeros((X.shape[0], X.shape[1], directions))\n",
    "f_next = np.zeros((X.shape[0], X.shape[1], directions))\n",
    "f_eq   = np.zeros((X.shape[0], X.shape[1], directions))\n",
    "\n",
    "blockdim = (8, 8)\n",
    "griddim = (8, 8)\n",
    "    \n",
    "rho = np.ones(X.shape);\n",
    "a = np.dot(U,ei);\n",
    "b = np.power(a,2);\n",
    "c = np.power(U[:,:,0],2) + np.power(U[:,:,1],2);\n",
    "\n",
    "start = timer()\n",
    "d_prev = cuda.to_device(f_prev)\n",
    "equil_kernel[griddim, blockdim](a,b,c,rho,d_prev,directional_weights) \n",
    "d_prev.to_host()\n",
    "dt = timer() - start\n",
    "\n",
    "print(dt)"
   ]
  },
  {
   "cell_type": "code",
   "execution_count": 102,
   "metadata": {
    "collapsed": false
   },
   "outputs": [
    {
     "name": "stdout",
     "output_type": "stream",
     "text": [
      "0.06360582890795285\n"
     ]
    }
   ],
   "source": [
    "f_init = np.zeros((X.shape[0], X.shape[1], directions))\n",
    "f_prev = np.zeros((X.shape[0], X.shape[1], directions))\n",
    "f_next = np.zeros((X.shape[0], X.shape[1], directions))\n",
    "f_eq   = np.zeros((X.shape[0], X.shape[1], directions))\n",
    "\n",
    "blockdim = (32, 8)\n",
    "griddim = (32, 16)\n",
    "    \n",
    "rho = np.ones(X.shape);\n",
    "a = np.dot(U,ei);\n",
    "b = np.power(a,2);\n",
    "c = np.power(U[:,:,0],2) + np.power(U[:,:,1],2);\n",
    "\n",
    "start = timer()\n",
    "for i in range(0,directions):\n",
    "    f_prev[:,:,i] = directional_weights[i] * rho * (\n",
    "        1 + \n",
    "        6 / 2 * a[:,:,i] + \n",
    "        9 / 2 * b[:,:,i] -\n",
    "        3 / 2 * c[:,:]\n",
    "    );\n",
    "dt = timer() - start\n",
    "\n",
    "print(dt)"
   ]
  }
 ],
 "metadata": {
  "kernelspec": {
   "display_name": "Python 3",
   "language": "python",
   "name": "python3"
  },
  "language_info": {
   "codemirror_mode": {
    "name": "ipython",
    "version": 3
   },
   "file_extension": ".py",
   "mimetype": "text/x-python",
   "name": "python",
   "nbconvert_exporter": "python",
   "pygments_lexer": "ipython3",
   "version": "3.5.1"
  }
 },
 "nbformat": 4,
 "nbformat_minor": 0
}
