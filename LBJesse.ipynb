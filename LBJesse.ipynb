{
 "cells": [
  {
   "cell_type": "code",
   "execution_count": 20,
   "metadata": {
    "collapsed": true
   },
   "outputs": [],
   "source": [
    "%matplotlib inline\n",
    "\n",
    "import numpy as np\n",
    "import matplotlib.pyplot as plt\n",
    "import sys\n",
    "from numba import jit\n",
    "from IPython import display\n",
    "\n",
    "def print_fl(x):\n",
    "    print(x)\n",
    "    sys.stdout.flush()"
   ]
  },
  {
   "cell_type": "code",
   "execution_count": 21,
   "metadata": {
    "collapsed": false
   },
   "outputs": [],
   "source": [
    "# simulation parameters\n",
    "tau = 1e-2\n",
    "delta_r = 1.0\n",
    "c = 1\n",
    "delta_t = 1/c\n",
    "q = 7 # number of directions to be considered\n",
    "num_iter = 10000\n",
    "\n",
    "rho = 1 \n",
    "mass = 1\n",
    "\n",
    "u_inlet = 0.004  # Velocity in lattice units.\n",
    "omega = 1.0/(2.0)     # Relaxation parameter.\n",
    "rho_inlet = 1.0\n",
    "\n",
    "e = np.zeros((q,2))\n",
    "e_angles = np.linspace(0,2*np.pi,6,endpoint=False)\n",
    "e[0,:] = [0,0]                        # zero velocity vector\n",
    "e[1:,0] = np.cos(e_angles)\n",
    "e[1:,1] = np.sin(e_angles)\n",
    "\n",
    "outflow_dir = 1\n",
    "\n",
    "w_e = np.concatenate(([1/2], 1/12*np.ones(6)))\n",
    "\n",
    "# bounce-back directions\n",
    "bb_dir = np.concatenate(([0], 1 + ((np.arange(q-1) + (q-1)/2) % 6)))\n",
    "bb_dir = np.array(bb_dir, dtype=np.int)\n",
    "\n",
    "# directions going to the right\n",
    "right_dirs = np.array([1,2,6], dtype=np.int)"
   ]
  },
  {
   "cell_type": "code",
   "execution_count": 22,
   "metadata": {
    "collapsed": false
   },
   "outputs": [
    {
     "data": {
      "image/png": "[encoded data removed]",
      "text/plain": [
       "<matplotlib.figure.Figure at 0x10befacc0>"
      ]
     },
     "metadata": {},
     "output_type": "display_data"
    }
   ],
   "source": [
    "# generate grid (in this case triangular grid on rectangular domain)\n",
    "L_x = 50\n",
    "L_y = 20\n",
    "\n",
    "template_x = np.arange(0, L_x, delta_r)\n",
    "template_y = np.arange(0, L_y, 1/2*np.sqrt(3)*delta_r)\n",
    "\n",
    "x_points = np.size(template_x)\n",
    "y_points = np.size(template_y)\n",
    "n_points = x_points*y_points\n",
    "\n",
    "template_xi = np.arange(x_points, dtype=np.int)\n",
    "template_yi = np.arange(y_points, dtype=np.int)\n",
    "\n",
    "[grid_x, grid_y] = np.meshgrid(template_x, template_y, indexing='ij')\n",
    "[grid_xi, grid_yi] = np.meshgrid(template_xi, template_yi, indexing='ij')\n",
    "grid_x[:,::2] += (1/2)*delta_r\n",
    "\n",
    "link_matrix = np.ones((x_points, y_points, 7, 2), dtype=np.int) * -1\n",
    "\n",
    "# construct the link matrix by finding neighbours (invalid ones are removed later)\n",
    "# stationary velocity\n",
    "link_matrix[:,:,0,0] = grid_xi\n",
    "link_matrix[:,:,0,1] = grid_yi\n",
    "\n",
    "# +x direction\n",
    "link_matrix[:,:,1,0] = grid_xi[:,:]+1\n",
    "link_matrix[:,:,1,1] = grid_yi[:,:]\n",
    "\n",
    "# up-right direction\n",
    "link_matrix[:,::2,2,0] = grid_xi[:,::2]+1\n",
    "link_matrix[:,1::2,2,0] = grid_xi[:,1::2]\n",
    "link_matrix[:,:,2,1] = grid_yi[:,:]+1\n",
    "\n",
    "# up-left direction\n",
    "link_matrix[:,::2,3,0] = grid_xi[:,::2]\n",
    "link_matrix[:,1::2,3,0] = grid_xi[:,1::2]-1\n",
    "link_matrix[:,:,3,1] = grid_yi[:,:]+1\n",
    "\n",
    "# -x direction\n",
    "link_matrix[:,:,4,0] = grid_xi[:,:]-1\n",
    "link_matrix[:,:,4,1] = grid_yi[:,:]\n",
    "\n",
    "# down-left direction\n",
    "link_matrix[:,::2,5,0] = grid_xi[:,::2]\n",
    "link_matrix[:,1::2,5,0] = grid_xi[:,1::2]-1\n",
    "link_matrix[:,:,5,1] = grid_yi[:,:]-1\n",
    "\n",
    "# down-right direction\n",
    "link_matrix[:,::2,6,0] = grid_xi[:,::2]+1\n",
    "link_matrix[:,1::2,6,0] = grid_xi[:,1::2]\n",
    "link_matrix[:,:,6,1] = grid_yi[:,:]-1\n",
    "\n",
    "# reshape lattice into a list\n",
    "lattice = np.zeros((n_points,2))\n",
    "\n",
    "lattice[:,0] = grid_x.reshape(n_points)\n",
    "lattice[:,1] = grid_y.reshape(n_points)\n",
    "\n",
    "# clean up invalid links\n",
    "link_matrix_inv_x = (link_matrix[:,:,:,0] >= x_points) | (link_matrix[:,:,:,0] < 0)\n",
    "link_matrix_inv_y = (link_matrix[:,:,:,1] >= y_points) | (link_matrix[:,:,:,1] < 0)\n",
    "\n",
    "link_matrix_inv = link_matrix_inv_x | link_matrix_inv_y\n",
    "\n",
    "link_matrix[link_matrix_inv,:] = -1\n",
    "\n",
    "# transform link matrix into a flat list that corresponds to the lattice list\n",
    "link_list = (link_matrix[:,:,:,0] * y_points + link_matrix[:,:,:,1]).reshape((n_points), 7)\n",
    "link_list[link_list < 0] = -1\n",
    "\n",
    "plt.scatter(lattice[:,0], lattice[:,1])\n",
    "plt.show()"
   ]
  },
  {
   "cell_type": "code",
   "execution_count": 23,
   "metadata": {
    "collapsed": false
   },
   "outputs": [],
   "source": [
    "plot_links = False\n",
    "\n",
    "if plot_links:\n",
    "    direc = 6\n",
    "    plt.figure()\n",
    "    for i in range(n_points):\n",
    "        if(link_list[i,direc] != -1):\n",
    "            x1 = lattice[i,0]\n",
    "            y1 = lattice[i,1]\n",
    "\n",
    "            x2 = lattice[link_list[i,direc],0]\n",
    "            y2 = lattice[link_list[i,direc],1]\n",
    "\n",
    "            plt.arrow(x1, y1, (x2-x1)/2, (y2-y1)/2, head_width=0.2, head_length=0.2)\n",
    "\n",
    "    plt.scatter(lattice[:,0], lattice[:,1])\n",
    "    plt.show()"
   ]
  },
  {
   "cell_type": "markdown",
   "metadata": {
    "collapsed": false
   },
   "source": [
    "    @jit(nopython=True)\n",
    "    def construct_link_list(lattice,e,link_list):\n",
    "        q = e.shape[0]\n",
    "        n_points = lattice.shape[0]\n",
    "        tol = 1e-10\n",
    "\n",
    "        for k in range(q):\n",
    "            candidate_rs = lattice + e[k,:]\n",
    "            for i in range(n_points):\n",
    "                close_rs = np.abs(lattice - candidate_rs[i,:]) < tol\n",
    "                candidates = close_rs[:,0] & close_rs[:,1]\n",
    "                candidate_i = np.argmax(candidates)\n",
    "                # we have to check this, as there may not be a neighbour in this direction at all\n",
    "                if candidates[candidate_i] == True:\n",
    "                    link_list[i,k] = candidate_i\n",
    "\n",
    "        return link_list"
   ]
  },
  {
   "cell_type": "markdown",
   "metadata": {
    "collapsed": false
   },
   "source": [
    "    link_list_t = np.ones((n_points, q), dtype=np.int) * -1\n",
    "    link_list = construct_link_list(lattice, e, link_list_t)\n",
    "\n",
    "    %timeit link_list = construct_link_list(lattice, e, link_list_t)"
   ]
  },
  {
   "cell_type": "code",
   "execution_count": 24,
   "metadata": {
    "collapsed": false
   },
   "outputs": [
    {
     "data": {
      "image/png": "[encoded data removed]",
      "text/plain": [
       "<matplotlib.figure.Figure at 0x10e99d2e8>"
      ]
     },
     "metadata": {},
     "output_type": "display_data"
    }
   ],
   "source": [
    "# identify different types of nodes\n",
    "lower_wall_i = np.flatnonzero(lattice[:,1] == template_y[0])\n",
    "upper_wall_i = np.flatnonzero(lattice[:,1] == template_y[-1])\n",
    "bc_noslip_i = np.concatenate((lower_wall_i, upper_wall_i))\n",
    "\n",
    "bc_left_wall_i = np.flatnonzero(lattice[:,0] < (template_x[0] + 3/4*delta_r))\n",
    "bc_right_wall_i = np.flatnonzero(lattice[:,0] > (template_x[-1] - 1/4*delta_r))\n",
    "\n",
    "# remove conflicting points that have multiple boundary identities\n",
    "bc_left_wall_i = np.setdiff1d(bc_left_wall_i, np.intersect1d(bc_left_wall_i, bc_noslip_i))\n",
    "bc_right_wall_i = np.setdiff1d(bc_right_wall_i, np.intersect1d(bc_right_wall_i, bc_noslip_i))\n",
    "\n",
    "boundary_i = np.concatenate((bc_noslip_i, bc_left_wall_i, bc_right_wall_i))\n",
    "interior_i = np.setdiff1d(np.arange(n_points), boundary_i)\n",
    "\n",
    "plt.figure()\n",
    "plt.scatter(lattice[bc_noslip_i, 0], lattice[bc_noslip_i, 1], color='r')\n",
    "plt.scatter(lattice[bc_left_wall_i, 0], lattice[bc_left_wall_i, 1], color='b')\n",
    "plt.scatter(lattice[bc_right_wall_i, 0], lattice[bc_right_wall_i, 1], color='g')\n",
    "plt.scatter(lattice[interior_i, 0], lattice[interior_i, 1], color='k')\n",
    "plt.show()"
   ]
  },
  {
   "cell_type": "code",
   "execution_count": 25,
   "metadata": {
    "collapsed": false
   },
   "outputs": [
    {
     "data": {
      "text/plain": [
       "8400"
      ]
     },
     "execution_count": 25,
     "metadata": {},
     "output_type": "execute_result"
    }
   ],
   "source": [
    "np.size(link_list)"
   ]
  },
  {
   "cell_type": "code",
   "execution_count": 26,
   "metadata": {
    "collapsed": false
   },
   "outputs": [],
   "source": [
    "f_prev = np.zeros((n_points, q))\n",
    "f_next = np.zeros((n_points, q))\n",
    "\n",
    "f_eq = np.zeros((n_points, q))\n",
    "\n",
    "def calc_f_eq(rho, u, e, w_e, c):\n",
    "    ue = np.dot(u, np.transpose(e))\n",
    "    uu = np.sum(u*u, axis=1)\n",
    "    uuee = ue*ue\n",
    "    \n",
    "    f_eq = w_e[np.newaxis,:] * rho[:,np.newaxis] * (1 + 4*ue/(c**2) - 2*uu[:,np.newaxis]/(c**2) + 8*uuee/(c**4))\n",
    "    return f_eq"
   ]
  },
  {
   "cell_type": "code",
   "execution_count": 27,
   "metadata": {
    "collapsed": false
   },
   "outputs": [],
   "source": [
    "initial_u = np.zeros((n_points, 2))\n",
    "initial_u[bc_left_wall_i,0] = u_inlet\n",
    "#initial_u[interior_i,0] = u_inlet\n",
    "#initial_u[bc_left_wall_i,0] = u_inlet\n",
    "#initial_u[bc_right_wall_i,0] = u_inlet\n",
    "\n",
    "initial_rho = np.zeros((n_points))\n",
    "initial_rho[bc_left_wall_i] = rho_inlet\n",
    "#initial_rho[interior_i] = rho_inlet\n",
    "#initial_rho[bc_left_wall_i] = rho_inlet\n",
    "#initial_rho[bc_right_wall_i] = rho_inlet\n",
    "\n",
    "f_prev[:,:] = 0.0\n",
    "#f_prev[bc_left_wall_i,right_dirs] = calc_f_eq(initial_rho, initial_u[:,:], e, w_e, c)[bc_left_wall_i,right_dirs]\n",
    "\n",
    "f_prev[bc_left_wall_i.reshape(-1,1),right_dirs] = calc_f_eq(initial_rho, initial_u[:,:], e, w_e, c)[bc_left_wall_i.reshape(-1,1),right_dirs]\n",
    "\n",
    "#f_prev[bc_noslip_i, ]"
   ]
  },
  {
   "cell_type": "code",
   "execution_count": 28,
   "metadata": {
    "collapsed": false,
    "scrolled": true
   },
   "outputs": [
    {
     "name": "stdout",
     "output_type": "stream",
     "text": [
      "Simulation progress: 0.0%\n"
     ]
    },
    {
     "name": "stderr",
     "output_type": "stream",
     "text": [
      "/Users/jesse/anaconda/lib/python3.5/site-packages/ipykernel/__main__.py:18: RuntimeWarning: invalid value encountered in true_divide\n"
     ]
    },
    {
     "name": "stdout",
     "output_type": "stream",
     "text": [
      "Simulation progress: 10.0%\n"
     ]
    },
    {
     "name": "stderr",
     "output_type": "stream",
     "text": [
      "/Users/jesse/anaconda/lib/python3.5/site-packages/ipykernel/__main__.py:11: RuntimeWarning: overflow encountered in multiply\n",
      "/Users/jesse/anaconda/lib/python3.5/site-packages/ipykernel/__main__.py:31: RuntimeWarning: invalid value encountered in subtract\n"
     ]
    },
    {
     "name": "stdout",
     "output_type": "stream",
     "text": [
      "Simulation progress: 20.0%\n",
      "Simulation progress: 30.0%\n",
      "Simulation progress: 40.0%\n",
      "Simulation progress: 50.0%\n",
      "Simulation progress: 60.0%\n",
      "Simulation progress: 70.0%\n",
      "Simulation progress: 80.0%\n",
      "Simulation progress: 90.0%\n",
      "Finished\n"
     ]
    }
   ],
   "source": [
    "visualize = False\n",
    "\n",
    "if visualize == True:\n",
    "    fig = plt.figure()\n",
    "    ax = fig.gca()\n",
    "\n",
    "for t in range(num_iter):\n",
    "    # clear distribution\n",
    "    f_next[:,:] = 0\n",
    "    \n",
    "    # right wall boundary condition: outflow condition\n",
    "    f_prev[bc_right_wall_i, :] = f_prev[link_list[bc_right_wall_i, bb_dir[outflow_dir]], :]\n",
    "    \n",
    "    # calculate macroscopic quantities\n",
    "    # density: sum distribution over velocities\n",
    "    rho = np.sum(f_prev, axis=1)\n",
    "    # velocity: calculate weighted sum of velocities using distributions\n",
    "    u = np.nan_to_num(np.dot(f_prev, e)/rho[:,np.newaxis])\n",
    "    \n",
    "    # left wall boundary condition: constant velocity inlet\n",
    "    rho[bc_left_wall_i] = initial_rho[bc_left_wall_i]\n",
    "    u[bc_left_wall_i] = initial_u[bc_left_wall_i]\n",
    "    \n",
    "    # calculate equilibrium\n",
    "    f_eq[:,:] = calc_f_eq(rho, u, e, w_e, c)\n",
    "    \n",
    "    # apply left wall bc distribution\n",
    "    f_prev[bc_left_wall_i.reshape(-1,1),right_dirs] = f_eq[bc_left_wall_i.reshape(-1,1),right_dirs]\n",
    "    \n",
    "    # collision step\n",
    "    f_prev[interior_i,:] = f_prev[interior_i,:] - omega * (f_prev[interior_i,:] - f_eq[interior_i,:])\n",
    "    \n",
    "    # streaming step\n",
    "    for i in range(q):\n",
    "        # we have to filter out the invalid links \n",
    "        valid_links = link_list[:,i] > -1\n",
    "        f_next[link_list[valid_links,i],i] = f_prev[valid_links,i]\n",
    "    \n",
    "    # top and bottom wall boundary condition: no slip/bounce-back\n",
    "    for i in range(q):\n",
    "        f_next[bc_noslip_i, bb_dir[i]] = f_prev[bc_noslip_i, i]\n",
    "        \n",
    "    # finish the iteration\n",
    "    f_prev[:,:] = f_next[:,:]\n",
    "    \n",
    "    \n",
    "    if visualize == True:\n",
    "        ax.cla()\n",
    "        ax.scatter(lattice[:,0], lattice[:,1])\n",
    "        ax.quiver(lattice[:,0], lattice[:,1], u[:,0], u[:,1])\n",
    "        display.clear_output(wait=True)\n",
    "        display.display(fig)\n",
    "        \n",
    "    if t % int(0.1*num_iter) == 0:\n",
    "        print_fl(r\"Simulation progress: %.1f%%\" % (t/num_iter * 100.0) )\n",
    "        \n",
    "if visualize == True:\n",
    "    display.clear_output()\n",
    "    \n",
    "print_fl(\"Finished\")"
   ]
  },
  {
   "cell_type": "code",
   "execution_count": 29,
   "metadata": {
    "collapsed": false
   },
   "outputs": [
    {
     "data": {
      "text/plain": [
       "<matplotlib.quiver.Quiver at 0x10f434c50>"
      ]
     },
     "execution_count": 29,
     "metadata": {},
     "output_type": "execute_result"
    },
    {
     "data": {
      "image/png": "[encoded data removed]",
      "text/plain": [
       "<matplotlib.figure.Figure at 0x10fc0a710>"
      ]
     },
     "metadata": {},
     "output_type": "display_data"
    }
   ],
   "source": [
    "plt.quiver(lattice[:,0], lattice[:,1], u[:,0], u[:,1])"
   ]
  },
  {
   "cell_type": "code",
   "execution_count": null,
   "metadata": {
    "collapsed": false,
    "scrolled": true
   },
   "outputs": [],
   "source": [
    "p = bc_left_wall_i\n",
    "\n",
    "freunden = np.array([0,4,5,9])\n",
    "\n",
    "p = freunden\n",
    "print(lattice[p,:])\n",
    "print(f_prev[p,:])\n",
    "print(u[p,:])"
   ]
  },
  {
   "cell_type": "code",
   "execution_count": null,
   "metadata": {
    "collapsed": false
   },
   "outputs": [],
   "source": [
    "p = 13\n",
    "print(lattice[p,:])\n",
    "print(f_prev[p,:])\n",
    "print(u[p,:])"
   ]
  },
  {
   "cell_type": "code",
   "execution_count": null,
   "metadata": {
    "collapsed": false
   },
   "outputs": [],
   "source": [
    "f_prev[bc_noslip_i,:]"
   ]
  },
  {
   "cell_type": "code",
   "execution_count": null,
   "metadata": {
    "collapsed": false
   },
   "outputs": [],
   "source": [
    "bb_dir"
   ]
  },
  {
   "cell_type": "code",
   "execution_count": null,
   "metadata": {
    "collapsed": false
   },
   "outputs": [],
   "source": [
    "plt.scatter(lattice[bc_noslip_i,0], lattice[bc_noslip_i,1])\n",
    "p = 9\n",
    "plt.scatter(lattice[p,0], lattice[p,1], color='r')"
   ]
  },
  {
   "cell_type": "code",
   "execution_count": null,
   "metadata": {
    "collapsed": true
   },
   "outputs": [],
   "source": []
  }
 ],
 "metadata": {
  "kernelspec": {
   "display_name": "Python 3",
   "language": "python",
   "name": "python3"
  },
  "language_info": {
   "codemirror_mode": {
    "name": "ipython",
    "version": 3
   },
   "file_extension": ".py",
   "mimetype": "text/x-python",
   "name": "python",
   "nbconvert_exporter": "python",
   "pygments_lexer": "ipython3",
   "version": "3.5.1"
  }
 },
 "nbformat": 4,
 "nbformat_minor": 0
}
