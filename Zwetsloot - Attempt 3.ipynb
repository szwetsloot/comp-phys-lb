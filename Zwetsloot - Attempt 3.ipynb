{
 "cells": [
  {
   "cell_type": "code",
   "execution_count": 1,
   "metadata": {
    "collapsed": true
   },
   "outputs": [],
   "source": [
    "%matplotlib inline\n",
    "\n",
    "import numpy as np;\n",
    "import time;\n",
    "import numba as jit;\n",
    "from copy import deepcopy;\n",
    "import matplotlib.pyplot as plt\n",
    "from IPython import display"
   ]
  },
  {
   "cell_type": "code",
   "execution_count": 2,
   "metadata": {
    "collapsed": false
   },
   "outputs": [
    {
     "name": "stdout",
     "output_type": "stream",
     "text": [
      "(2, 3618)\n"
     ]
    },
    {
     "data": {
      "image/png": "[encoded data removed]",
      "text/plain": [
       "<matplotlib.figure.Figure at 0x1b4f3257b8>"
      ]
     },
     "metadata": {},
     "output_type": "display_data"
    }
   ],
   "source": [
    "# GRID\n",
    "\n",
    "#           4    3    2\n",
    "#\n",
    "#           5    0    1\n",
    "#\n",
    "#           6    7    8\n",
    "\n",
    "# Define variables used\n",
    "directions               = 9;\n",
    "relaxation_constant      = 0.8;\n",
    "grid_step_x              = 5E-3;\n",
    "grid_step_y              = 1E-2;\n",
    "speed_of_sound           = 1;\n",
    "time_step                = 1 / speed_of_sound;\n",
    "directional_weights      = np.array([16,4,1,4,1,4,1,4,1]) / 36;\n",
    "unit_x_velocities        = np.array([0, 1, 1, 0, -1, -1, -1, 0, 1]);\n",
    "unit_y_velocities        = np.array([0, 0, 1, 1, 1, 0, -1, -1, -1]);\n",
    "ei                       = np.stack((unit_x_velocities, unit_y_velocities));\n",
    "oppositeDirection        = np.array([0, 5, 6, 7, 8, 1, 2, 3, 4]);\n",
    "density                  = 1E0;\n",
    "mass                     = 1E0;\n",
    "particles_per_grid_point = 1E1;\n",
    "average_density          = particles_per_grid_point;\n",
    "\n",
    "# Create the grid. We use a triangular grid\n",
    "x          = np.linspace(0, 1, 1 / grid_step_x + 1);\n",
    "y          = np.linspace(-grid_step_y/2, 1 + grid_step_y/2, 1/grid_step_y + 2);\n",
    "[X, Y]     = np.meshgrid(x,y);                     # This is a rectangular grid\n",
    "\n",
    "# Create the velocity grid.\n",
    "u           = np.ones(np.shape(x)) * 0.0;                 # Initial x velocity is uniformly 1\n",
    "v           = np.zeros(np.shape(y));\n",
    "[U, V]      = np.meshgrid(u,v);\n",
    "U = np.dstack((U,V));\n",
    "\n",
    "# Place walls etc\n",
    "Active = np.ones(X.shape);\n",
    "Active[[0,-1],:] = 0; # Top and bottom boundary\n",
    "\n",
    "# Calculate the boundary elements\n",
    "Boundary = np.zeros(X.shape);\n",
    "for i in range(1,9):\n",
    "    Boundary = Boundary + np.roll(np.roll(Active, ei[0,i], axis=1), ei[1,i], axis=0);\n",
    "\n",
    "# All locations which are smaller than 8 and active are a boundary\n",
    "Boundary = ((8 - Boundary) * Active > 0) * (8 - Boundary);\n",
    "BoundaryList = np.zeros([np.int(np.sum(Boundary)),4]);\n",
    "BoundaryPositions = np.nonzero(Active==0);\n",
    "BoundaryPositions = np.tile(BoundaryPositions, 9);\n",
    "#BoundaryPositions = np.swapaxes(BoundaryPositions, 2,0)\n",
    "print(BoundaryPositions.shape);\n",
    "\n",
    "Arr = np.tile(np.arange(9), (np.int(BoundaryPositions.shape[1]/9),1))\n",
    "Arr = np.reshape(Arr, Arr.size,1);\n",
    "\n",
    "#print(BoundaryPositions);\n",
    "#z = 0;\n",
    "#ActiveShape = Active.shape - np.array([1,1]);\n",
    "#for i in np.transpose(BoundaryPositions):\n",
    " #   for j in range(1,9):\n",
    "#?p = i + ei[:,j];\n",
    "#   #     BoundaryList[z,:] = [i[0],i[1],j,oppositeDirection[j]];\n",
    "#        z = z + 1;\n",
    "#BoundaryList = BoundaryList[~np.all(BoundaryList == 0, axis=1)].astype(int);\n",
    "#print(BoundaryList);\n",
    "#\n",
    "plt.pcolor(Boundary * 2 + Active);\n"
   ]
  },
  {
   "cell_type": "code",
   "execution_count": 9,
   "metadata": {
    "collapsed": false
   },
   "outputs": [
    {
     "name": "stdout",
     "output_type": "stream",
     "text": [
      "0% Simulating\n",
      "1% Simulating\n",
      "2% Simulating\n",
      "3% Simulating\n",
      "4% Simulating\n",
      "5% Simulating\n",
      "6% Simulating\n",
      "7% Simulating\n",
      "8% Simulating\n",
      "9% Simulating\n",
      "49.798480266297645\n"
     ]
    }
   ],
   "source": [
    "time_steps = 1000\n",
    "\n",
    "C = speed_of_sound;\n",
    "tau = relaxation_constant;\n",
    "\n",
    "f_init = np.zeros((Active.shape[0], Active.shape[1], directions))\n",
    "f_prev = np.zeros((Active.shape[0], Active.shape[1], directions))\n",
    "f_next = np.zeros((Active.shape[0], Active.shape[1], directions))\n",
    "f_eq   = np.zeros((Active.shape[0], Active.shape[1], directions))\n",
    "f_temp = np.zeros((Active.shape[0], Active.shape[1], directions))\n",
    "\n",
    "rho = np.ones(Active.shape);\n",
    "a = np.dot(U,ei);\n",
    "b = np.power(a,2);\n",
    "c = np.power(U[:,:,0],2) + np.power(U[:,:,1],2);\n",
    "for i in range(0,directions):\n",
    "    f_prev[:,:,i] = directional_weights[i] * rho * (\n",
    "        1 + \n",
    "        6 / 2 * a[:,:,i] * C ** -2 + \n",
    "        9 / 2 * b[:,:,i] * C ** -4 -\n",
    "        3 / 2 * c[:,:] * C ** -2\n",
    "    );\n",
    "f_next[BoundaryPositions[0,:], BoundaryPositions[1,:], Arr] = 0;\n",
    "\n",
    "start_time = time.clock();\n",
    "\n",
    "for t in range(time_steps):\n",
    "    # Reset\n",
    "    f_next[:,:,:] = 0;\n",
    "    \n",
    "    # Outflow condition\n",
    "    f_prev[:,-1,:] = f_prev[:,-2,:]\n",
    "    \n",
    "    rho = np.sum(f_prev, axis=2);\n",
    "    has_rho = np.logical_and(Active==1,rho>0);\n",
    "    U[:,:,:] = 0;\n",
    "    U[has_rho,::] = np.divide(\n",
    "        np.dot(f_prev, np.transpose(ei))[has_rho,:] ,\n",
    "        rho[has_rho,np.newaxis]\n",
    "    );\n",
    "    U[:,0,0] = 0.004;\n",
    "    rho[:,0] = 1;\n",
    "    \n",
    "    # Calculate the equilibirum\n",
    "    a = np.dot(U,ei);\n",
    "    b = np.power(a,2);\n",
    "    c = np.power(U[:,:,0],2) + np.power(U[:,:,1],2);\n",
    "    for i in range(0,directions):\n",
    "        f_eq[:,:,i] = directional_weights[i] * rho * (\n",
    "            1 + \n",
    "            6 / 2 * a[:,:,i] * C ** -2 + \n",
    "            9 / 2 * b[:,:,i] * C ** -4 -\n",
    "            3 / 2 * c[:,:] * C ** -2\n",
    "        );\n",
    "        \n",
    "    # Collision step\n",
    "    f_prev[Active == 1,:] = f_prev[Active == 1,:] - 1 / tau * (f_prev[Active == 1,:] - f_eq[Active == 1,:])\n",
    "    f_prev[0,:,:] = f_eq[0,:,:]; # Inflow condition\n",
    "    #f_prev[5,0,1] = 1;\n",
    "    \n",
    "    # Streaming step\n",
    "    for i in range(directions):\n",
    "        f_next[:,:,i] = np.roll(np.roll(f_prev[:,:,i], ei[0,i], axis=1), ei[1,i], axis=0);\n",
    "    \n",
    "    #Boundary conditions\n",
    "    f_next[BoundaryPositions[0,:], BoundaryPositions[1,:], Arr] = f_next[\n",
    "        BoundaryPositions[0,:], BoundaryPositions[1,:], oppositeDirection[Arr]\n",
    "    ]\n",
    "    \n",
    "    f_prev[:,:,:] = f_next[:,:,:];\n",
    "    if (t%np.int(round(time_steps/10)) == 0):\n",
    "        print(str(np.int(t / round(time_steps/100))) + \"% Simulating\");\n",
    "    continue;\n",
    "    if (t%10==0):\n",
    "        a = 1;\n",
    "        b = 100;\n",
    "        fig = plt.figure();\n",
    "        #Q = plt.pcolor(X,Y,f_prev[:,:,1]);\n",
    "        #Q = plt.pcolor(X,Y,U[:,:,0]);\n",
    "        #Q = plt.pcolor(X,Y,rho);\n",
    "        #plt.colorbar();\n",
    "        Q = plt.quiver(X,Y,U[:,:,0],U[:,:,1]);\n",
    "        #Q = plt.quiver(X[::a, ::b],Y[::a, ::b],U[::a, ::b],V[::a, ::b]);\n",
    "        #Q = plt.quiver(X[::1,::1],Y[::1,::10],U[::1,::10],V[::1,::10],units='width');\n",
    "        \n",
    "        display.clear_output(wait=True);\n",
    "        display.display(fig);\n",
    "        print(t);\n",
    "        \n",
    "print(time.clock() - start_time);"
   ]
  },
  {
   "cell_type": "code",
   "execution_count": null,
   "metadata": {
    "collapsed": true
   },
   "outputs": [],
   "source": []
  },
  {
   "cell_type": "code",
   "execution_count": null,
   "metadata": {
    "collapsed": false
   },
   "outputs": [],
   "source": [
    "print(U[5,:,0]);"
   ]
  }
 ],
 "metadata": {
  "kernelspec": {
   "display_name": "Python 3",
   "language": "python",
   "name": "python3"
  },
  "language_info": {
   "codemirror_mode": {
    "name": "ipython",
    "version": 3
   },
   "file_extension": ".py",
   "mimetype": "text/x-python",
   "name": "python",
   "nbconvert_exporter": "python",
   "pygments_lexer": "ipython3",
   "version": "3.5.1"
  }
 },
 "nbformat": 4,
 "nbformat_minor": 0
}
