{
 "cells": [
  {
   "cell_type": "code",
   "execution_count": 1,
   "metadata": {
    "collapsed": true
   },
   "outputs": [],
   "source": [
    "%matplotlib inline\n",
    "\n",
    "import numpy as np;\n",
    "import numba as jit;\n",
    "from copy import deepcopy;\n",
    "import matplotlib.pyplot as plt\n",
    "from IPython import display"
   ]
  },
  {
   "cell_type": "code",
   "execution_count": null,
   "metadata": {
    "collapsed": false
   },
   "outputs": [
    {
     "name": "stdout",
     "output_type": "stream",
     "text": [
      "(10, 1001, 9)\n"
     ]
    }
   ],
   "source": [
    "# GRID\n",
    "\n",
    "#           4    3    2\n",
    "#\n",
    "#           5    0    1\n",
    "#\n",
    "#           6    7    8\n",
    "\n",
    "# Define variables used\n",
    "relaxation_constant      = 1;\n",
    "grid_step_x              = 1E-3;\n",
    "grid_step_y              = 1.25E-1;\n",
    "speed_of_sound           = 1;\n",
    "time_step                = 1 / speed_of_sound;\n",
    "directional_weights      = np.array([16,4,1,4,1,4,1,4,1]) / 36;\n",
    "unit_x_velocities        = np.array([0, 1, 1, 0, -1, -1, -1, 0, 1]);\n",
    "unit_y_velocities        = np.array([0, 0, 1, 1, 1, 0, -1, -1, -1]);\n",
    "ei                       = np.stack((unit_x_velocities, unit_y_velocities));\n",
    "density                  = 1E0;\n",
    "mass                     = 1E0;\n",
    "particles_per_grid_point = 1E1;\n",
    "average_density          = particles_per_grid_point;\n",
    "\n",
    "# Create the grid. We use a triangular grid\n",
    "x          = np.linspace(0, 1, 1 / grid_step_x + 1);\n",
    "y          = np.linspace(-grid_step_y/2, 1 + grid_step_y/2, 1/grid_step_y + 2);\n",
    "[X, Y]     = np.meshgrid(x,y);                     # This is a rectangular grid\n",
    "\n",
    "# Create the velocity grid.\n",
    "u           = np.ones(np.shape(x)) * 0.0;                 # Initial x velocity is uniformly 1\n",
    "v           = np.zeros(np.shape(y));\n",
    "[U, V]      = np.meshgrid(u,v);\n",
    "\n",
    "# Create the distributionts\n",
    "fi          = np.ones((X.shape[0], X.shape[1], 9)) * 10\n",
    "print(fi.shape);"
   ]
  },
  {
   "cell_type": "code",
   "execution_count": null,
   "metadata": {
    "collapsed": false
   },
   "outputs": [
    {
     "data": {
      "image/png": "[encoded data removed]",
      "text/plain": [
       "<matplotlib.figure.Figure at 0x765c0ac128>"
      ]
     },
     "metadata": {},
     "output_type": "display_data"
    }
   ],
   "source": [
    "time_steps = 10000;\n",
    "\n",
    "C = speed_of_sound;\n",
    "tau = relaxation_constant;\n",
    "\n",
    "rfiq = np.zeros(fi.shape[0:1]);\n",
    "rfi = np.zeros(fi.shape);\n",
    "\n",
    "\n",
    "\n",
    "for t in range(time_steps):\n",
    "    U[:,:] = U[:,:] + 0.1;\n",
    "    for i in range(0,9):\n",
    "        rfiq = directional_weights[i] * (\n",
    "            1 + \n",
    "            6 / 2 * (ei[0,i] * U + ei[1,i] * V) * C ** -2 + \n",
    "            9 / 2 * np.power(ei[0,i] * U + ei[1,i] * V,2) * C ** -4 -\n",
    "            3 / 2 * (np.power(U,2) + np.power(V,2)) * C ** -2\n",
    "        );\n",
    "        rfi[:,:,i] = fi[:,:,i] + 1 / tau * rfiq;\n",
    "    \n",
    "    \n",
    "    #c = -1; d = -2;\n",
    "    #a = 0;  b = 1;\n",
    "    \n",
    "    #rfi[a,:,2] = np.roll(rfi[b,:,6],1);\n",
    "    #rfi[a,:,3] = rfi[b,:,7];\n",
    "    #rfi[a,:,4] = np.roll(rfi[b,:,8],-1);\n",
    "    \n",
    "    #rfi[c,:,8] = np.roll(rfi[d,:,4],-1);\n",
    "    #rfi[c,:,7] = rfi[d,:,3];\n",
    "    #rfi[c,:,6] = np.roll(rfi[d,:,2],1);\n",
    "    \n",
    "    for i in range(0,9):\n",
    "        fi[:,:,i] = np.roll(np.roll(rfi[:,:,i], ei[0,i], axis=1), ei[1,i], axis=0);\n",
    "        \n",
    "    # Set boundary conditions\n",
    "    #fi[-1,:,6:8]  = fi[-2,:,3:1:-1];\n",
    "    #fi[0,:,1:3] = fi[1,:,8:6:-1];\n",
    "    \n",
    "    c = -1; d = -2;\n",
    "    a = 0;  b = 1;\n",
    "    \n",
    "    fi[a,:,2] = np.roll(fi[b,:,6],1);\n",
    "    fi[a,:,3] = fi[b,:,7];\n",
    "    fi[a,:,4] = np.roll(fi[b,:,8],-1);\n",
    "    \n",
    "    fi[c,:,8] = np.roll(fi[d,:,4],-1);\n",
    "    fi[c,:,7] = fi[d,:,3];\n",
    "    fi[c,:,6] = np.roll(fi[d,:,2],1);\n",
    "    \n",
    "    #fi[c,:,[1,2,3,4]] = 0;\n",
    "    #fi[a,:,[1,6,7,8]] = 0;\n",
    "    \n",
    "    rho = np.sum(fi, axis=2);\n",
    "    temp1 = np.multiply(fi,ei[0,:]);\n",
    "    temp1 = np.sum(temp1, axis=2);\n",
    "    temp2 = np.multiply(fi,ei[1,:]);\n",
    "    temp2 = np.sum(temp2, axis=2);\n",
    "    U = np.divide(temp1, rho);\n",
    "    V = np.divide(temp2, rho);\n",
    "\n",
    "    \n",
    "    if (t%10==0):\n",
    "        a = 1;\n",
    "        b = 100;\n",
    "        fig = plt.figure();\n",
    "        #Q = plt.pcolor(X,Y,U);\n",
    "        #Q = plt.quiver(X,Y,U,V);\n",
    "        Q = plt.quiver(X[::a, ::b],Y[::a, ::b],U[::a, ::b],V[::a, ::b]);\n",
    "        #Q = plt.quiver(X[::1,::1],Y[::1,::10],U[::1,::10],V[::1,::10],units='width');\n",
    "        \n",
    "        display.clear_output(wait=True);\n",
    "        display.display(fig);\n",
    "        print(t);"
   ]
  }
 ],
 "metadata": {
  "kernelspec": {
   "display_name": "Python 3",
   "language": "python",
   "name": "python3"
  },
  "language_info": {
   "codemirror_mode": {
    "name": "ipython",
    "version": 3
   },
   "file_extension": ".py",
   "mimetype": "text/x-python",
   "name": "python",
   "nbconvert_exporter": "python",
   "pygments_lexer": "ipython3",
   "version": "3.5.1"
  }
 },
 "nbformat": 4,
 "nbformat_minor": 0
}
