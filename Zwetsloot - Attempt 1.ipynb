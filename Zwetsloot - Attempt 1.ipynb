{
 "cells": [
  {
   "cell_type": "code",
   "execution_count": 29,
   "metadata": {
    "collapsed": false
   },
   "outputs": [],
   "source": [
    "import numpy as np;\n",
    "import numba as jit;\n",
    "import matplotlib.pyplot as plt"
   ]
  },
  {
   "cell_type": "code",
   "execution_count": 56,
   "metadata": {
    "collapsed": false
   },
   "outputs": [],
   "source": [
    "# Define variables used\n",
    "relaxation_constant      = 1E-2;\n",
    "grid_step_x              = 1E-3;\n",
    "grid_step_y              = 1E-2;\n",
    "speed_of_sound           = 3E2;\n",
    "time_step                = 1 / speed_of_sound;\n",
    "directional_weights      = np.array([1/2, 1/12, 1/12, 1/12, 1/12, 1/12, 1/12]);\n",
    "unit_x_velocities        = np.array([0,1,1/2,-1/2,-1/2,-1,1/2,1/2]); # Rotating clockwise\n",
    "unit_y_velocities        = np.array([0,0,-np.sqrt(3)/2,-np.sqrt(3)/2,0,np.sqrt(3)/2,np.sqrt(3)/2])\n",
    "density                  = 1E0;\n",
    "mass                     = 1E0;\n",
    "particles_per_grid_point = 1E1;\n",
    "average_density          = particles_per_grid_point;\n",
    "\n",
    "# Create the grid. We use a triangular grid\n",
    "x          = np.linspace(0, 1, 1 / grid_step_x + 1);\n",
    "y          = np.linspace(-grid_step_y/2, 1 + grid_step_y/2, 1/grid_step_y + 2);\n",
    "[X, Y]     = np.meshgrid(x,y);                     # This is a rectangular grid\n",
    "X[1::2,:]  = X[0::2,:] + (X[1,1] - X[2,1] / 2);    # offset every second row to make it triangular\n",
    "\n",
    "# Create the velocity grid.\n",
    "u          = np.ones(np.shape(x));                 # Initial x velocity is uniformly 1\n",
    "v          = np.zeros(np.shape(y));\n",
    "[U, V]     = np.meshgrid(u,v);\n",
    "U[0,:]     = 0;                                    # Set the x-velocity 0 at the top boundary\n",
    "U[-1,:]    = 0;                                    # Set the x-velocity 0 at the bottom\n",
    "\n",
    "# Create the particles. 2 rows: {x-position, y-position}\n",
    "# No particles start outside the walls\n",
    "xin = x;                                           # X stays the same\n",
    "yin = y[1:-2];                                     # for Y we remove the first and last index\n",
    "[Xin, Yin] = np.meshgrid(xin,yin);\n",
    "Xp = np.reshape(Xin, [np.size(xin) * np.size(yin), 1]);\n",
    "Yp = np.reshape(Yin, [np.size(xin) * np.size(yin), 1]);\n",
    "\n",
    "Xp = np.repeat(Xp, particles_per_grid_point, 0);   # We want several particles per grid point\n",
    "Yp = np.repeat(Yp, particles_per_grid_point, 0);   # Thus we repeat the array\n",
    "Particles = np.concatenate((Xp, Yp), 1);           # And then combine the arrays into a matrix"
   ]
  },
  {
   "cell_type": "code",
   "execution_count": 67,
   "metadata": {
    "collapsed": false
   },
   "outputs": [
    {
     "name": "stdout",
     "output_type": "stream",
     "text": [
      "(990990, 2, 300)\n"
     ]
    }
   ],
   "source": [
    "# Next we are going to run the simulation\n",
    "time_steps = np.int(np.ceil(1 / time_step * 1));   # Simulate 1 second\n",
    "Particle_Locations = np.zeros(np.append(np.shape(Particles), time_steps));\n"
   ]
  }
 ],
 "metadata": {
  "kernelspec": {
   "display_name": "Python 3",
   "language": "python",
   "name": "python3"
  },
  "language_info": {
   "codemirror_mode": {
    "name": "ipython",
    "version": 3
   },
   "file_extension": ".py",
   "mimetype": "text/x-python",
   "name": "python",
   "nbconvert_exporter": "python",
   "pygments_lexer": "ipython3",
   "version": "3.5.1"
  }
 },
 "nbformat": 4,
 "nbformat_minor": 0
}
