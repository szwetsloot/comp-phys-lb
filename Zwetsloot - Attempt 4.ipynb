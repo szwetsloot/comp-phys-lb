{
 "cells": [
  {
   "cell_type": "code",
   "execution_count": 10,
   "metadata": {
    "collapsed": false
   },
   "outputs": [],
   "source": [
    "%matplotlib inline\n",
    "\n",
    "import numpy as np;\n",
    "import time;\n",
    "from numba import jit\n",
    "from numba import vectorize\n",
    "import accelerate\n",
    "from copy import deepcopy;\n",
    "import matplotlib\n",
    "import matplotlib.pyplot as plt\n",
    "from IPython import display\n",
    "import matplotlib.animation as manimation\n",
    "import winsound"
   ]
  },
  {
   "cell_type": "code",
   "execution_count": 5,
   "metadata": {
    "collapsed": false
   },
   "outputs": [
    {
     "name": "stdout",
     "output_type": "stream",
     "text": [
      "(2, 12618)\n"
     ]
    },
    {
     "data": {
      "text/plain": [
       "<matplotlib.collections.PolyCollection at 0xb6aa1a8940>"
      ]
     },
     "execution_count": 5,
     "metadata": {},
     "output_type": "execute_result"
    },
    {
     "data": {
      "image/png": "[encoded data removed]",
      "text/plain": [
       "<matplotlib.figure.Figure at 0xb6a50baa20>"
      ]
     },
     "metadata": {},
     "output_type": "display_data"
    }
   ],
   "source": [
    "# GRID\n",
    "\n",
    "#           4    3    2\n",
    "#\n",
    "#           5    0    1\n",
    "#\n",
    "#           6    7    8\n",
    "\n",
    "# Define variables used\n",
    "directions               = 9;\n",
    "relaxation_constant      = 0.8;\n",
    "grid_step_x              = 2E-3;\n",
    "grid_step_y              = 1E-2;\n",
    "speed_of_sound           = 1;\n",
    "time_step                = 1 / speed_of_sound;\n",
    "directional_weights      = np.array([16,4,1,4,1,4,1,4,1], dtype=np.double) / 36;\n",
    "unit_x_velocities        = np.array([0, 1, 1, 0, -1, -1, -1, 0, 1], dtype=np.int);\n",
    "unit_y_velocities        = np.array([0, 0, 1, 1, 1, 0, -1, -1, -1], dtype=np.int);\n",
    "ei                       = np.stack((unit_x_velocities, unit_y_velocities));\n",
    "oppositeDirection        = np.array([0, 5, 6, 7, 8, 1, 2, 3, 4], dtype=np.int64);\n",
    "density                  = 1E0;\n",
    "mass                     = 1E0;\n",
    "particles_per_grid_point = 1E1;\n",
    "average_density          = particles_per_grid_point;\n",
    "inlet_velocity           = 0.2;\n",
    "\n",
    "# Create the grid. We use a triangular grid\n",
    "x          = np.linspace(0, 1, 1 / grid_step_x + 1);\n",
    "y          = np.linspace(-grid_step_y/2, 1 + grid_step_y/2, 1/grid_step_y + 2);\n",
    "[X, Y]     = np.meshgrid(x,y)     # This is a rectangular grid\n",
    "\n",
    "# Create the velocity grid.\n",
    "u           = np.ones(np.shape(x)) * inlet_velocity;\n",
    "v           = np.zeros(np.shape(y));\n",
    "[U, V]      = np.meshgrid(u,v);\n",
    "U = np.dstack((U,V)).astype(np.double);\n",
    "\n",
    "# Place walls etc\n",
    "Active = np.ones(X.shape).astype(np.double);\n",
    "Active[[0,-1],:] = 0; # Top and bottom boundary\n",
    "Active[40:60, 40:60] = 0; # Block\n",
    "\n",
    "# Calculate the boundary elements\n",
    "Boundary = np.zeros(X.shape, dtype=np.double);\n",
    "for i in range(1,9):\n",
    "    Boundary = Boundary + np.roll(np.roll(Active, np.int(ei[0,i]), axis=1), np.int(ei[1,i]), axis=0);\n",
    "\n",
    "# All locations which are smaller than 8 and active are a boundary\n",
    "Boundary = ((8 - Boundary) * Active > 0) * (8 - Boundary);\n",
    "BoundaryList = np.zeros([np.int(np.sum(Boundary)),4]);\n",
    "BoundaryPositions = np.nonzero(Active==0);\n",
    "BoundaryPositions = np.tile(BoundaryPositions, 9);\n",
    "#BoundaryPositions = np.swapaxes(BoundaryPositions, 2,0)\n",
    "print(BoundaryPositions.shape);\n",
    "\n",
    "Arr = np.tile(np.arange(9), (np.int(BoundaryPositions.shape[1]/9),1))\n",
    "Arr = np.reshape(Arr, Arr.size,1).astype(np.int64);\n",
    "\n",
    "#print(BoundaryPositions);\n",
    "#z = 0;\n",
    "#ActiveShape = Active.shape - np.array([1,1]);\n",
    "#for i in np.transpose(BoundaryPositions):\n",
    " #   for j in range(1,9):\n",
    "#?p = i + ei[:,j];\n",
    "#   #     BoundaryList[z,:] = [i[0],i[1],j,oppositeDirection[j]];\n",
    "#        z = z + 1;\n",
    "#BoundaryList = BoundaryList[~np.all(BoundaryList == 0, axis=1)].astype(int);\n",
    "#print(BoundaryList);\n",
    "#\n",
    "plt.pcolor(Boundary * 2 + Active);\n",
    "\n",
    "# Create a movie!!\n",
    "#Movie = 1;\n",
    "#FFMpegWriter = manimation.writers['ffmpeg']\n",
    "#metadata = dict(title='Movie Test', artist='Matplotlib',\n",
    " #               comment='Movie support!')\n",
    "#writer = FFMpegWriter(fps=30, metadata=metadata)\n"
   ]
  },
  {
   "cell_type": "code",
   "execution_count": 11,
   "metadata": {
    "collapsed": false
   },
   "outputs": [
    {
     "ename": "TypeError",
     "evalue": "data type \"pyobject\" not understood",
     "output_type": "error",
     "traceback": [
      "\u001b[1;31m---------------------------------------------------------------------------\u001b[0m",
      "\u001b[1;31mTypeError\u001b[0m                                 Traceback (most recent call last)",
      "\u001b[1;32m<ipython-input-11-5f54a2aeb8bc>\u001b[0m in \u001b[0;36m<module>\u001b[1;34m()\u001b[0m\n\u001b[0;32m      3\u001b[0m \u001b[1;33m\u001b[0m\u001b[0m\n\u001b[0;32m      4\u001b[0m \u001b[1;31m#@accelerate(['f8(f8, f8, f8, int64, int64, int64)'], target='parallel')\u001b[0m\u001b[1;33m\u001b[0m\u001b[1;33m\u001b[0m\u001b[0m\n\u001b[1;32m----> 5\u001b[1;33m \u001b[1;33m@\u001b[0m\u001b[0mvectorize\u001b[0m\u001b[1;33m(\u001b[0m\u001b[1;33m[\u001b[0m\u001b[1;34m'f8(f8, f8, f8, int64, int64, int64)'\u001b[0m\u001b[1;33m]\u001b[0m\u001b[1;33m,\u001b[0m \u001b[0mtarget\u001b[0m\u001b[1;33m=\u001b[0m\u001b[1;34m'parallel'\u001b[0m\u001b[1;33m)\u001b[0m\u001b[1;33m\u001b[0m\u001b[0m\n\u001b[0m\u001b[0;32m      6\u001b[0m \u001b[1;32mdef\u001b[0m \u001b[0mequil\u001b[0m\u001b[1;33m(\u001b[0m\u001b[0mf_eq\u001b[0m\u001b[1;33m,\u001b[0m \u001b[0mU\u001b[0m\u001b[1;33m,\u001b[0m \u001b[0mrho\u001b[0m\u001b[1;33m,\u001b[0m \u001b[0mW\u001b[0m\u001b[1;33m,\u001b[0m \u001b[0mC\u001b[0m\u001b[1;33m,\u001b[0m \u001b[0mei\u001b[0m\u001b[1;33m)\u001b[0m\u001b[1;33m:\u001b[0m\u001b[1;33m\u001b[0m\u001b[0m\n\u001b[0;32m      7\u001b[0m     \u001b[1;31m#f_eq   = np.zeros((U.shape[0], U.shape[1], ei.shape[1]), dtype=np.float32);\u001b[0m\u001b[1;33m\u001b[0m\u001b[1;33m\u001b[0m\u001b[0m\n",
      "\u001b[1;32mC:\\Users\\sybre\\Anaconda3\\lib\\site-packages\\numba\\npyufunc\\decorators.py\u001b[0m in \u001b[0;36mwrap\u001b[1;34m(func)\u001b[0m\n\u001b[0;32m    111\u001b[0m         \u001b[1;32mif\u001b[0m \u001b[0mlen\u001b[0m\u001b[1;33m(\u001b[0m\u001b[0mftylist\u001b[0m\u001b[1;33m)\u001b[0m \u001b[1;33m>\u001b[0m \u001b[1;36m0\u001b[0m\u001b[1;33m:\u001b[0m\u001b[1;33m\u001b[0m\u001b[0m\n\u001b[0;32m    112\u001b[0m             \u001b[0mvec\u001b[0m\u001b[1;33m.\u001b[0m\u001b[0mdisable_compile\u001b[0m\u001b[1;33m(\u001b[0m\u001b[1;33m)\u001b[0m\u001b[1;33m\u001b[0m\u001b[0m\n\u001b[1;32m--> 113\u001b[1;33m         \u001b[1;32mreturn\u001b[0m \u001b[0mvec\u001b[0m\u001b[1;33m.\u001b[0m\u001b[0mbuild_ufunc\u001b[0m\u001b[1;33m(\u001b[0m\u001b[1;33m)\u001b[0m\u001b[1;33m\u001b[0m\u001b[0m\n\u001b[0m\u001b[0;32m    114\u001b[0m \u001b[1;33m\u001b[0m\u001b[0m\n\u001b[0;32m    115\u001b[0m     \u001b[1;32mreturn\u001b[0m \u001b[0mwrap\u001b[0m\u001b[1;33m\u001b[0m\u001b[0m\n",
      "\u001b[1;32mC:\\Users\\sybre\\Anaconda3\\lib\\site-packages\\numba\\npyufunc\\ufuncbuilder.py\u001b[0m in \u001b[0;36mbuild_ufunc\u001b[1;34m(self)\u001b[0m\n\u001b[0;32m    197\u001b[0m         \u001b[1;32mfor\u001b[0m \u001b[0msig\u001b[0m \u001b[1;32min\u001b[0m \u001b[0mself\u001b[0m\u001b[1;33m.\u001b[0m\u001b[0m_sigs\u001b[0m\u001b[1;33m:\u001b[0m\u001b[1;33m\u001b[0m\u001b[0m\n\u001b[0;32m    198\u001b[0m             \u001b[0mcres\u001b[0m \u001b[1;33m=\u001b[0m \u001b[0mself\u001b[0m\u001b[1;33m.\u001b[0m\u001b[0m_cres\u001b[0m\u001b[1;33m[\u001b[0m\u001b[0msig\u001b[0m\u001b[1;33m]\u001b[0m\u001b[1;33m\u001b[0m\u001b[0m\n\u001b[1;32m--> 199\u001b[1;33m             \u001b[0mdtypenums\u001b[0m\u001b[1;33m,\u001b[0m \u001b[0mptr\u001b[0m\u001b[1;33m,\u001b[0m \u001b[0menv\u001b[0m \u001b[1;33m=\u001b[0m \u001b[0mself\u001b[0m\u001b[1;33m.\u001b[0m\u001b[0mbuild\u001b[0m\u001b[1;33m(\u001b[0m\u001b[0mcres\u001b[0m\u001b[1;33m,\u001b[0m \u001b[0msig\u001b[0m\u001b[1;33m)\u001b[0m\u001b[1;33m\u001b[0m\u001b[0m\n\u001b[0m\u001b[0;32m    200\u001b[0m             \u001b[0mdtypelist\u001b[0m\u001b[1;33m.\u001b[0m\u001b[0mappend\u001b[0m\u001b[1;33m(\u001b[0m\u001b[0mdtypenums\u001b[0m\u001b[1;33m)\u001b[0m\u001b[1;33m\u001b[0m\u001b[0m\n\u001b[0;32m    201\u001b[0m             \u001b[0mptrlist\u001b[0m\u001b[1;33m.\u001b[0m\u001b[0mappend\u001b[0m\u001b[1;33m(\u001b[0m\u001b[0mutils\u001b[0m\u001b[1;33m.\u001b[0m\u001b[0mlongint\u001b[0m\u001b[1;33m(\u001b[0m\u001b[0mptr\u001b[0m\u001b[1;33m)\u001b[0m\u001b[1;33m)\u001b[0m\u001b[1;33m\u001b[0m\u001b[0m\n",
      "\u001b[1;32mC:\\Users\\sybre\\Anaconda3\\lib\\site-packages\\numba\\npyufunc\\parallel.py\u001b[0m in \u001b[0;36mbuild\u001b[1;34m(self, cres, sig)\u001b[0m\n\u001b[0;32m     37\u001b[0m         \u001b[1;31m# Get dtypes\u001b[0m\u001b[1;33m\u001b[0m\u001b[1;33m\u001b[0m\u001b[0m\n\u001b[0;32m     38\u001b[0m         \u001b[0mdtypenums\u001b[0m \u001b[1;33m=\u001b[0m \u001b[1;33m[\u001b[0m\u001b[0mnp\u001b[0m\u001b[1;33m.\u001b[0m\u001b[0mdtype\u001b[0m\u001b[1;33m(\u001b[0m\u001b[0ma\u001b[0m\u001b[1;33m.\u001b[0m\u001b[0mname\u001b[0m\u001b[1;33m)\u001b[0m\u001b[1;33m.\u001b[0m\u001b[0mnum\u001b[0m \u001b[1;32mfor\u001b[0m \u001b[0ma\u001b[0m \u001b[1;32min\u001b[0m \u001b[0msignature\u001b[0m\u001b[1;33m.\u001b[0m\u001b[0margs\u001b[0m\u001b[1;33m]\u001b[0m\u001b[1;33m\u001b[0m\u001b[0m\n\u001b[1;32m---> 39\u001b[1;33m         \u001b[0mdtypenums\u001b[0m\u001b[1;33m.\u001b[0m\u001b[0mappend\u001b[0m\u001b[1;33m(\u001b[0m\u001b[0mnp\u001b[0m\u001b[1;33m.\u001b[0m\u001b[0mdtype\u001b[0m\u001b[1;33m(\u001b[0m\u001b[0msignature\u001b[0m\u001b[1;33m.\u001b[0m\u001b[0mreturn_type\u001b[0m\u001b[1;33m.\u001b[0m\u001b[0mname\u001b[0m\u001b[1;33m)\u001b[0m\u001b[1;33m.\u001b[0m\u001b[0mnum\u001b[0m\u001b[1;33m)\u001b[0m\u001b[1;33m\u001b[0m\u001b[0m\n\u001b[0m\u001b[0;32m     40\u001b[0m         \u001b[0mkeepalive\u001b[0m \u001b[1;33m=\u001b[0m \u001b[1;33m(\u001b[0m\u001b[1;33m)\u001b[0m\u001b[1;33m\u001b[0m\u001b[0m\n\u001b[0;32m     41\u001b[0m         \u001b[1;32mreturn\u001b[0m \u001b[0mdtypenums\u001b[0m\u001b[1;33m,\u001b[0m \u001b[0mptr\u001b[0m\u001b[1;33m,\u001b[0m \u001b[0mkeepalive\u001b[0m\u001b[1;33m\u001b[0m\u001b[0m\n",
      "\u001b[1;31mTypeError\u001b[0m: data type \"pyobject\" not understood"
     ]
    }
   ],
   "source": [
    "#@jit(['float32(float32, float32, int8, int8, int8)'], nopython=True)\n",
    "#@jit([np.double, np.double, np.double, np.double, np.double])\n",
    "\n",
    "#@accelerate(['f8(f8, f8, f8, int64, int64, int64)'], target='parallel')\n",
    "@vectorize(['f8(f8, f8, f8, int64, int64, int64)'], target='parallel')\n",
    "def equil(f_eq, U, rho, W, C, ei):\n",
    "    #f_eq   = np.zeros((U.shape[0], U.shape[1], ei.shape[1]), dtype=np.float32);\n",
    "    # Calculate the equilibirum\n",
    "    a = np.dot(U,ei);\n",
    "    #a = \n",
    "    #a = U[:,:,0] * ei[:,0] + U[:,:,1] * ei[:,1]\n",
    "    b = np.power(a,2);\n",
    "    c = np.power(U[:,:,0],2) + np.power(U[:,:,1],2);\n",
    "    for i in range(0,directions):\n",
    "        f_eq[:,:,i] = directional_weights[i] * rho * (\n",
    "            1 + \n",
    "            6 / 2 * a[:,:,i] * C ** -2 + \n",
    "            9 / 2 * b[:,:,i] * C ** -4 -\n",
    "            3 / 2 * c[:,:] * C ** -2\n",
    "        );\n",
    "    #return f_eq;"
   ]
  },
  {
   "cell_type": "code",
   "execution_count": 24,
   "metadata": {
    "collapsed": false
   },
   "outputs": [
    {
     "ename": "TypeError",
     "evalue": "No matching version.  GPU ufunc requires array arguments to have the exact types.  This behaves like regular ufunc with casting='no'.",
     "output_type": "error",
     "traceback": [
      "\u001b[1;31m---------------------------------------------------------------------------\u001b[0m",
      "\u001b[1;31mTypeError\u001b[0m                                 Traceback (most recent call last)",
      "\u001b[1;32m<ipython-input-24-d43c2528aff6>\u001b[0m in \u001b[0;36m<module>\u001b[1;34m()\u001b[0m\n\u001b[0;32m     12\u001b[0m \u001b[0mrho\u001b[0m \u001b[1;33m=\u001b[0m \u001b[0mnp\u001b[0m\u001b[1;33m.\u001b[0m\u001b[0mones\u001b[0m\u001b[1;33m(\u001b[0m\u001b[0mActive\u001b[0m\u001b[1;33m.\u001b[0m\u001b[0mshape\u001b[0m\u001b[1;33m,\u001b[0m \u001b[0mdtype\u001b[0m\u001b[1;33m=\u001b[0m\u001b[0mnp\u001b[0m\u001b[1;33m.\u001b[0m\u001b[0mdouble\u001b[0m\u001b[1;33m)\u001b[0m\u001b[1;33m;\u001b[0m\u001b[1;33m\u001b[0m\u001b[0m\n\u001b[0;32m     13\u001b[0m \u001b[1;33m\u001b[0m\u001b[0m\n\u001b[1;32m---> 14\u001b[1;33m \u001b[0mequil\u001b[0m\u001b[1;33m(\u001b[0m\u001b[0mf_prev\u001b[0m\u001b[1;33m,\u001b[0m \u001b[0mU\u001b[0m\u001b[1;33m,\u001b[0m \u001b[0mrho\u001b[0m\u001b[1;33m,\u001b[0m \u001b[0mdirectional_weights\u001b[0m\u001b[1;33m,\u001b[0m \u001b[0mC\u001b[0m\u001b[1;33m,\u001b[0m \u001b[0mei\u001b[0m\u001b[1;33m)\u001b[0m\u001b[1;33m;\u001b[0m\u001b[1;33m\u001b[0m\u001b[0m\n\u001b[0m\u001b[0;32m     15\u001b[0m \u001b[1;31m#f_next[BoundaryPositions[0,:], BoundaryPositions[1,:], Arr] = 0;\u001b[0m\u001b[1;33m\u001b[0m\u001b[1;33m\u001b[0m\u001b[0m\n\u001b[0;32m     16\u001b[0m \u001b[1;33m\u001b[0m\u001b[0m\n",
      "\u001b[1;32mC:\\Users\\sybre\\Anaconda3\\lib\\site-packages\\numba\\cuda\\dispatcher.py\u001b[0m in \u001b[0;36m__call__\u001b[1;34m(self, *args, **kws)\u001b[0m\n\u001b[0;32m     93\u001b[0m                       \u001b[0mthe\u001b[0m \u001b[0minput\u001b[0m \u001b[0marguments\u001b[0m\u001b[1;33m.\u001b[0m\u001b[1;33m\u001b[0m\u001b[0m\n\u001b[0;32m     94\u001b[0m         \"\"\"\n\u001b[1;32m---> 95\u001b[1;33m         \u001b[1;32mreturn\u001b[0m \u001b[0mCUDAUFuncMechanism\u001b[0m\u001b[1;33m.\u001b[0m\u001b[0mcall\u001b[0m\u001b[1;33m(\u001b[0m\u001b[0mself\u001b[0m\u001b[1;33m.\u001b[0m\u001b[0mfunctions\u001b[0m\u001b[1;33m,\u001b[0m \u001b[0margs\u001b[0m\u001b[1;33m,\u001b[0m \u001b[0mkws\u001b[0m\u001b[1;33m)\u001b[0m\u001b[1;33m\u001b[0m\u001b[0m\n\u001b[0m\u001b[0;32m     96\u001b[0m \u001b[1;33m\u001b[0m\u001b[0m\n\u001b[0;32m     97\u001b[0m     \u001b[1;32mdef\u001b[0m \u001b[0mreduce\u001b[0m\u001b[1;33m(\u001b[0m\u001b[0mself\u001b[0m\u001b[1;33m,\u001b[0m \u001b[0marg\u001b[0m\u001b[1;33m,\u001b[0m \u001b[0mstream\u001b[0m\u001b[1;33m=\u001b[0m\u001b[1;36m0\u001b[0m\u001b[1;33m)\u001b[0m\u001b[1;33m:\u001b[0m\u001b[1;33m\u001b[0m\u001b[0m\n",
      "\u001b[1;32mC:\\Users\\sybre\\Anaconda3\\lib\\site-packages\\numba\\npyufunc\\deviceufunc.py\u001b[0m in \u001b[0;36mcall\u001b[1;34m(cls, typemap, args, kws)\u001b[0m\n\u001b[0;32m    254\u001b[0m         \u001b[1;31m# Begin call resolution\u001b[0m\u001b[1;33m\u001b[0m\u001b[1;33m\u001b[0m\u001b[0m\n\u001b[0;32m    255\u001b[0m         \u001b[0mcr\u001b[0m \u001b[1;33m=\u001b[0m \u001b[0mcls\u001b[0m\u001b[1;33m(\u001b[0m\u001b[0mtypemap\u001b[0m\u001b[1;33m,\u001b[0m \u001b[0margs\u001b[0m\u001b[1;33m)\u001b[0m\u001b[1;33m\u001b[0m\u001b[0m\n\u001b[1;32m--> 256\u001b[1;33m         \u001b[0margs\u001b[0m \u001b[1;33m=\u001b[0m \u001b[0mcr\u001b[0m\u001b[1;33m.\u001b[0m\u001b[0mget_arguments\u001b[0m\u001b[1;33m(\u001b[0m\u001b[1;33m)\u001b[0m\u001b[1;33m\u001b[0m\u001b[0m\n\u001b[0m\u001b[0;32m    257\u001b[0m         \u001b[0mresty\u001b[0m\u001b[1;33m,\u001b[0m \u001b[0mfunc\u001b[0m \u001b[1;33m=\u001b[0m \u001b[0mcr\u001b[0m\u001b[1;33m.\u001b[0m\u001b[0mget_function\u001b[0m\u001b[1;33m(\u001b[0m\u001b[1;33m)\u001b[0m\u001b[1;33m\u001b[0m\u001b[0m\n\u001b[0;32m    258\u001b[0m \u001b[1;33m\u001b[0m\u001b[0m\n",
      "\u001b[1;32mC:\\Users\\sybre\\Anaconda3\\lib\\site-packages\\numba\\npyufunc\\deviceufunc.py\u001b[0m in \u001b[0;36mget_arguments\u001b[1;34m(self)\u001b[0m\n\u001b[0;32m    212\u001b[0m         \u001b[0mself\u001b[0m\u001b[1;33m.\u001b[0m\u001b[0m_fill_arrays\u001b[0m\u001b[1;33m(\u001b[0m\u001b[1;33m)\u001b[0m\u001b[1;33m\u001b[0m\u001b[0m\n\u001b[0;32m    213\u001b[0m         \u001b[0mself\u001b[0m\u001b[1;33m.\u001b[0m\u001b[0m_fill_argtypes\u001b[0m\u001b[1;33m(\u001b[0m\u001b[1;33m)\u001b[0m\u001b[1;33m\u001b[0m\u001b[0m\n\u001b[1;32m--> 214\u001b[1;33m         \u001b[0mself\u001b[0m\u001b[1;33m.\u001b[0m\u001b[0m_resolve_signature\u001b[0m\u001b[1;33m(\u001b[0m\u001b[1;33m)\u001b[0m\u001b[1;33m\u001b[0m\u001b[0m\n\u001b[0m\u001b[0;32m    215\u001b[0m         \u001b[0marys\u001b[0m \u001b[1;33m=\u001b[0m \u001b[0mself\u001b[0m\u001b[1;33m.\u001b[0m\u001b[0m_get_actual_args\u001b[0m\u001b[1;33m(\u001b[0m\u001b[1;33m)\u001b[0m\u001b[1;33m\u001b[0m\u001b[0m\n\u001b[0;32m    216\u001b[0m         \u001b[1;32mreturn\u001b[0m \u001b[0mself\u001b[0m\u001b[1;33m.\u001b[0m\u001b[0m_broadcast\u001b[0m\u001b[1;33m(\u001b[0m\u001b[0marys\u001b[0m\u001b[1;33m)\u001b[0m\u001b[1;33m\u001b[0m\u001b[0m\n",
      "\u001b[1;32mC:\\Users\\sybre\\Anaconda3\\lib\\site-packages\\numba\\npyufunc\\deviceufunc.py\u001b[0m in \u001b[0;36m_resolve_signature\u001b[1;34m(self)\u001b[0m\n\u001b[0;32m    152\u001b[0m \u001b[1;33m\u001b[0m\u001b[0m\n\u001b[0;32m    153\u001b[0m         \u001b[1;32mif\u001b[0m \u001b[1;32mnot\u001b[0m \u001b[0mmatches\u001b[0m\u001b[1;33m:\u001b[0m\u001b[1;33m\u001b[0m\u001b[0m\n\u001b[1;32m--> 154\u001b[1;33m             raise TypeError(\"No matching version.  GPU ufunc requires array \"\n\u001b[0m\u001b[0;32m    155\u001b[0m                             \u001b[1;34m\"arguments to have the exact types.  This behaves \"\u001b[0m\u001b[1;33m\u001b[0m\u001b[0m\n\u001b[0;32m    156\u001b[0m                             \"like regular ufunc with casting='no'.\")\n",
      "\u001b[1;31mTypeError\u001b[0m: No matching version.  GPU ufunc requires array arguments to have the exact types.  This behaves like regular ufunc with casting='no'."
     ]
    }
   ],
   "source": [
    "time_steps = 500;\n",
    "\n",
    "C = speed_of_sound;\n",
    "tau = relaxation_constant;\n",
    "\n",
    "f_init = np.zeros((Active.shape[0], Active.shape[1], directions), dtype=np.double)\n",
    "f_prev = np.zeros((Active.shape[0], Active.shape[1], directions), dtype=np.double)\n",
    "f_next = np.zeros((Active.shape[0], Active.shape[1], directions), dtype=np.double)\n",
    "f_eq   = np.zeros((Active.shape[0], Active.shape[1], directions), dtype=np.double)\n",
    "f_temp = np.zeros((Active.shape[0], Active.shape[1], directions), dtype=np.double)\n",
    "\n",
    "rho = np.ones(Active.shape, dtype=np.double);\n",
    "\n",
    "equil(f_prev, U, rho, directional_weights, C, ei);\n",
    "#f_next[BoundaryPositions[0,:], BoundaryPositions[1,:], Arr] = 0;\n",
    "\n",
    "start_time = time.clock();\n",
    "fig = plt.figure(num=None, figsize=(15,3), dpi=300);\n",
    "#with writer.saving(fig, \"writer_test.mp4\", 100):\n",
    "for t in range(time_steps):\n",
    "    # Reset\n",
    "    f_next[:,:,:] = 0;\n",
    "\n",
    "    # Outflow condition\n",
    "    f_prev[:,-1,:] = f_prev[:,-2,:]\n",
    "\n",
    "    rho = np.sum(f_prev, axis=2);\n",
    "    has_rho = np.logical_and(Active==1,rho>0);\n",
    "    U[:,:,:] = 0;\n",
    "    U[has_rho,::] = np.divide(\n",
    "        np.dot(f_prev, np.transpose(ei))[has_rho,:] ,\n",
    "        rho[has_rho,np.newaxis]\n",
    "    );\n",
    "    U[:,0,0] = np.ones(U.shape[0]) * inlet_velocity + inlet_velocity * 0.1 * np.sin(np.arange(U.shape[0]) * 6.28 * grid_step_y);\n",
    "    #U[:,0,0] = inlet_velocity;\n",
    "    rho[:,0] = 1;\n",
    "\n",
    "    # Calculate the equilibirum\n",
    "    \n",
    "    equil(f_eq, U, rho, directional_weights, C, ei);\n",
    "    #a = np.dot(U,ei);\n",
    "    #b = np.power(a,2);\n",
    "    #c = np.power(U[:,:,0],2) + np.power(U[:,:,1],2);\n",
    "    #for i in range(0,directions):\n",
    "    #    f_eq[:,:,i] = directional_weights[i] * rho * (\n",
    "    #        1 + \n",
    "    #        6 / 2 * a[:,:,i] * C ** -2 + \n",
    "    #        9 / 2 * b[:,:,i] * C ** -4 -\n",
    "    #        3 / 2 * c[:,:] * C ** -2\n",
    "    #    );\n",
    "\n",
    "    # Collision step\n",
    "    f_prev[Active == 1,:] = f_prev[Active == 1,:] - 1 / tau * (f_prev[Active == 1,:] - f_eq[Active == 1,:])\n",
    "    f_prev[0,:,:] = f_eq[0,:,:]; # Inflow condition\n",
    "    #f_prev[5,0,1] = 1;\n",
    "\n",
    "    # Streaming step\n",
    "    for i in range(directions):\n",
    "        f_next[:,:,i] = np.roll(np.roll(f_prev[:,:,i], np.int(ei[0,i]), axis=1), np.int(ei[1,i]), axis=0);\n",
    "\n",
    "    #Boundary conditions\n",
    "    f_next[BoundaryPositions[0,:], BoundaryPositions[1,:], Arr] = f_next[\n",
    "        BoundaryPositions[0,:], BoundaryPositions[1,:], oppositeDirection[Arr]\n",
    "    ]\n",
    "\n",
    "    f_prev[:,:,:] = f_next[:,:,:];\n",
    "    #if (t%np.int(round(time_steps/10)) == 0):\n",
    "    if (t%1==0):\n",
    "        print(str(np.int(t / round(time_steps/100))) + \"% Simulating\");\n",
    "        a = 1;\n",
    "        b = 100;\n",
    "        #Q = plt.pcolor(X,Y,f_prev[:,:,1]);\n",
    "        #Q = plt.pcolor(X,Y,U[:,:,0]);\n",
    "        res = 1;\n",
    "        Q = plt.pcolor(\n",
    "            X[0:-1:res, 0:-1:res],\n",
    "            Y[0:-1:res, 0:-1:res],\n",
    "            rho[0:-1:res, 0:-1:res],\n",
    "            vmin=0.94,\n",
    "            vmax=1.06\n",
    "        );\n",
    "        axes = plt.gca()\n",
    "        axes.set_xlim([0,1])\n",
    "        axes.set_ylim([0,1])\n",
    "        if (t == 0):\n",
    "            plt.colorbar();\n",
    "        #Q = plt.pcolor(X,Y,np.linalg.norm(U,axis=2));\n",
    "        #writer.grab_frame()\n",
    "        #Q = plt.quiver(X,Y,U[:,:,0],U[:,:,1]);\n",
    "        #Q = plt.quiver(X[::a, ::b],Y[::a, ::b],U[::a, ::b],V[::a, ::b]);\n",
    "        #Q = plt.quiver(X[::1,::1],Y[::1,::10],U[::1,::10],V[::1,::10],units='width');\n",
    "\n",
    "        display.clear_output(wait=True);\n",
    "        display.display(fig);\n",
    "        print(t);\n",
    "\n",
    "print(time.clock() - start_time);"
   ]
  }
 ],
 "metadata": {
  "kernelspec": {
   "display_name": "Python 3",
   "language": "python",
   "name": "python3"
  },
  "language_info": {
   "codemirror_mode": {
    "name": "ipython",
    "version": 3
   },
   "file_extension": ".py",
   "mimetype": "text/x-python",
   "name": "python",
   "nbconvert_exporter": "python",
   "pygments_lexer": "ipython3",
   "version": "3.5.1"
  }
 },
 "nbformat": 4,
 "nbformat_minor": 0
}
