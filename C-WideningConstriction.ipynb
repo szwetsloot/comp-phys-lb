{
 "cells": [
  {
   "cell_type": "markdown",
   "metadata": {},
   "source": [
    "# Widening constriction - simulated using C code\n",
    "Unfortunatly, this simulation is numerically unstable\n",
    "\n",
    "C code is inspired by the LBJesseInletOutletBC notebook"
   ]
  },
  {
   "cell_type": "code",
   "execution_count": 175,
   "metadata": {
    "collapsed": true
   },
   "outputs": [],
   "source": [
    "%matplotlib inline\n",
    "\n",
    "import numpy as np\n",
    "import matplotlib.pyplot as plt\n",
    "import sys\n",
    "from numba import jit\n",
    "from IPython import display\n",
    "import warnings\n",
    "import time\n",
    "import subprocess\n",
    "\n",
    "warnings.resetwarnings()\n",
    "\n",
    "def print_fl(x):\n",
    "    print(x)\n",
    "    sys.stdout.flush()"
   ]
  },
  {
   "cell_type": "code",
   "execution_count": 176,
   "metadata": {
    "collapsed": true
   },
   "outputs": [],
   "source": [
    "# simulation parameters\n",
    "delta_r = 1.0\n",
    "c = 1\n",
    "q = 7 # number of directions to be considered\n",
    "num_iter = 3000\n",
    "num_threads = 4\n",
    "\n",
    "omega = 1.0/(0.8)     # Relaxation parameter.\n",
    "\n",
    "# velocity vectors\n",
    "e = np.zeros((q,2))\n",
    "e_angles = np.linspace(0,2*np.pi,6,endpoint=False)\n",
    "e[0,:] = [0,0]                        # zero velocity vector\n",
    "e[1:,0] = np.cos(e_angles)\n",
    "e[1:,1] = np.sin(e_angles)\n",
    "\n",
    "# directional weights\n",
    "w_e = np.concatenate(([1/2], 1/12*np.ones(6)))\n",
    "\n",
    "# bounce-back directions\n",
    "bb_dir = np.concatenate(([0], 1 + ((np.arange(q-1) + (q-1)/2) % 6)))\n",
    "bb_dir = np.array(bb_dir, dtype=np.int)"
   ]
  },
  {
   "cell_type": "code",
   "execution_count": 177,
   "metadata": {
    "collapsed": true
   },
   "outputs": [],
   "source": [
    "def cos_d(x):\n",
    "    return np.cos(np.deg2rad(x))\n",
    "\n",
    "def sin_d(x):\n",
    "    return np.sin(np.deg2rad(x))\n",
    "\n",
    "def tan_d(x):\n",
    "    return np.tan(np.deg2rad(x))"
   ]
  },
  {
   "cell_type": "code",
   "execution_count": 178,
   "metadata": {
    "collapsed": false
   },
   "outputs": [
    {
     "data": {
      "image/png": "[encoded data removed]",
      "text/plain": [
       "<matplotlib.figure.Figure at 0x110b60ac8>"
      ]
     },
     "metadata": {},
     "output_type": "display_data"
    }
   ],
   "source": [
    "# generate grid (in this case triangular grid on rectangular domain)\n",
    "pipe_x = 600\n",
    "pipe_y = 101\n",
    "\n",
    "cutout_x = pipe_x/2\n",
    "cutout_y = pipe_y/3\n",
    "\n",
    "L_x = pipe_x\n",
    "L_y = pipe_y\n",
    "\n",
    "N_x = int(L_x / delta_r)\n",
    "N_y = int(L_y / (1/2*np.sqrt(3)*delta_r))\n",
    "\n",
    "template_x = np.arange(N_x) * delta_r\n",
    "template_y = np.arange(N_y) * 1/2*np.sqrt(3)*delta_r\n",
    "\n",
    "x_points = np.size(template_x)\n",
    "y_points = np.size(template_y)\n",
    "n_points = x_points*y_points\n",
    "\n",
    "assert N_x == x_points\n",
    "assert N_y == y_points\n",
    "\n",
    "template_xi = np.arange(x_points, dtype=np.int)\n",
    "template_yi = np.arange(y_points, dtype=np.int)\n",
    "\n",
    "[grid_x, grid_y] = np.meshgrid(template_x, template_y, indexing='ij')\n",
    "[grid_xi, grid_yi] = np.meshgrid(template_xi, template_yi, indexing='ij')\n",
    "grid_x[:,::2] += (1/2)*delta_r\n",
    "\n",
    "neighbours_even_row = np.array([\n",
    "        [0, 0],   # stationary direction\n",
    "        [1, 0],   # +x direction\n",
    "        [1, 1],   # up-right direction\n",
    "        [0, 1],   # up-left direction\n",
    "        [-1, 0],  # -x direction\n",
    "        [0, -1],  # down-left direction\n",
    "        [1, -1]   # down-right direction\n",
    "    ])\n",
    "\n",
    "neighbours_odd_row = np.array([\n",
    "        [0, 0],   # stationary direction\n",
    "        [1, 0],   # +x direction\n",
    "        [0, 1],   # up-right direction\n",
    "        [-1, 1],  # up-left direction\n",
    "        [-1, 0],  # -x direction\n",
    "        [-1, -1], # down-left direction\n",
    "        [0, -1]   # down-right direction\n",
    "    ])\n",
    "\n",
    "left_dirs = np.array([3, 4, 5])\n",
    "right_dirs = np.array([1, 2, 6])\n",
    "\n",
    "\n",
    "\n",
    "link_matrix = np.ones((x_points, y_points, 7, 2), dtype=np.int) * -1\n",
    "\n",
    "# construct the link matrix by finding neighbours (invalid ones are removed later)\n",
    "link_matrix[:,::2,:,0] = (grid_xi[:,::2, np.newaxis] + neighbours_even_row[:,0])\n",
    "link_matrix[:,1::2,:,0] = (grid_xi[:,1::2, np.newaxis] + neighbours_odd_row[:,0]) \n",
    "\n",
    "link_matrix[:,::2,:,1] = (grid_yi[:,::2, np.newaxis] + neighbours_even_row[:,1]) \n",
    "link_matrix[:,1::2,:,1] = (grid_yi[:,1::2, np.newaxis] + neighbours_odd_row[:,1])\n",
    "\n",
    "link_matrix[0,::,left_dirs,:] = -1\n",
    "link_matrix[-1,::,right_dirs,:] = -1\n",
    "\n",
    "# reshape lattice into a list\n",
    "lattice = np.zeros((n_points,2))\n",
    "\n",
    "lattice[:,0] = grid_x.reshape(n_points)\n",
    "lattice[:,1] = grid_y.reshape(n_points)\n",
    "\n",
    "# clean up invalid links\n",
    "link_matrix_inv_x = (link_matrix[:,:,:,0] >= x_points) | (link_matrix[:,:,:,0] < 0)\n",
    "link_matrix_inv_y = (link_matrix[:,:,:,1] >= y_points) | (link_matrix[:,:,:,1] < 0)\n",
    "\n",
    "link_matrix_inv = link_matrix_inv_x | link_matrix_inv_y\n",
    "\n",
    "link_matrix[link_matrix_inv,:] = -1\n",
    "\n",
    "# transform link matrix into a flat list that corresponds to the lattice list\n",
    "link_list = np.array((link_matrix[:,:,:,0] * y_points + link_matrix[:,:,:,1]), dtype=np.int).reshape((n_points), 7)\n",
    "link_list[link_list < 0] = -1\n",
    "\n",
    "# plot grid\n",
    "plt.scatter(lattice[:,0], lattice[:,1])\n",
    "grid_xlim = plt.xlim()\n",
    "grid_ylim = plt.ylim()\n",
    "\n",
    "plt.show()"
   ]
  },
  {
   "cell_type": "code",
   "execution_count": 179,
   "metadata": {
    "collapsed": false
   },
   "outputs": [],
   "source": [
    "@jit(nopython=True)\n",
    "def delete_gridpoints(lattice, link_list, lattice_identities, indices):\n",
    "    lattice_identities[indices] = -1\n",
    "    for del_i in indices:\n",
    "        for j in range(q):\n",
    "            link = link_list[del_i, j]\n",
    "            link_list[link, bb_dir[j]] = -1\n",
    "    \n",
    "def halfplane_innerproduct(p1, p2, p3):\n",
    "    return (p1[...,0] - p3[...,0]) * (p2[...,1] - p3[...,1]) - (p2[...,0] - p3[...,0]) * (p1[...,1] - p3[...,1])\n",
    "\n",
    "def select_triangle(lattice, v1, v2, v3):\n",
    "    b1 = halfplane_innerproduct(lattice, v1, v2) < 0.0\n",
    "    b2 = halfplane_innerproduct(lattice, v2, v3) < 0.0\n",
    "    b3 = halfplane_innerproduct(lattice, v3, v1) < 0.0\n",
    "    \n",
    "    b = (b1 == b2) & (b2 == b3)\n",
    "    \n",
    "    triangle_indices = np.flatnonzero(b)\n",
    "    return triangle_indices\n",
    "\n",
    "def select_triangle_l(lattice, v1, v2, v3):\n",
    "    return select_triangle(lattice, np.array(v1), np.array(v2), np.array(v3))"
   ]
  },
  {
   "cell_type": "markdown",
   "metadata": {},
   "source": [
    "    float sign (fPoint p1, fPoint p2, fPoint p3)\n",
    "    {\n",
    "        return (p1.x - p3.x) * (p2.y - p3.y) - (p2.x - p3.x) * (p1.y - p3.y);\n",
    "    }\n",
    "\n",
    "    bool PointInTriangle (fPoint pt, fPoint v1, fPoint v2, fPoint v3)\n",
    "    {\n",
    "        bool b1, b2, b3;\n",
    "\n",
    "        b1 = sign(pt, v1, v2) < 0.0f;\n",
    "        b2 = sign(pt, v2, v3) < 0.0f;\n",
    "        b3 = sign(pt, v3, v1) < 0.0f;\n",
    "\n",
    "        return ((b1 == b2) && (b2 == b3));\n",
    "    }"
   ]
  },
  {
   "cell_type": "code",
   "execution_count": 180,
   "metadata": {
    "collapsed": false
   },
   "outputs": [
    {
     "data": {
      "image/png": "[encoded data removed]",
      "text/plain": [
       "<matplotlib.figure.Figure at 0x10fe9cc88>"
      ]
     },
     "metadata": {},
     "output_type": "display_data"
    }
   ],
   "source": [
    "# cut out the pipe\n",
    "warnings.simplefilter(\"error\")\n",
    "lattice_identities = np.zeros((n_points), dtype=np.int)\n",
    "\n",
    "top_left_block = np.flatnonzero((lattice[:,1] > L_y - cutout_y) & (lattice[:,0] < cutout_x))\n",
    "noslip_blocks = np.copy(top_left_block)\n",
    "\n",
    "cut_away_i = np.copy(top_left_block)\n",
    "pipe_points = np.setdiff1d(np.arange(n_points), cut_away_i)\n",
    "\n",
    "bc_noslip_i = np.intersect1d(\n",
    "    np.unique(\n",
    "        np.concatenate((\n",
    "                np.ravel(link_list[noslip_blocks,:]),\n",
    "                np.flatnonzero(lattice[:,1] < 0.1),\n",
    "                np.flatnonzero(lattice[:,1] > np.max(lattice[:,1]) - 0.1)\n",
    "            ))\n",
    "        ),\n",
    "    pipe_points)\n",
    "\n",
    "# outflow occurs in the top-right block, select all the pipe points flowing out\n",
    "outflow_dir = 1\n",
    "bc_outlet_i = np.setdiff1d(\n",
    "    np.intersect1d(np.flatnonzero(link_list[:, outflow_dir] == -1), pipe_points),\n",
    "    bc_noslip_i\n",
    "    )\n",
    "\n",
    "bc_inlet_i = np.setdiff1d(\n",
    "    np.intersect1d(np.flatnonzero(lattice[:,0] < 0.75), pipe_points),\n",
    "    bc_noslip_i\n",
    "    )\n",
    "\n",
    "interior_i = np.setdiff1d(pipe_points, np.concatenate((\n",
    "            bc_noslip_i,\n",
    "            bc_inlet_i,\n",
    "            bc_outlet_i\n",
    "        )))\n",
    "\n",
    "delete_gridpoints(lattice, link_list, lattice_identities, cut_away_i)\n",
    "\n",
    "lattice_identities[interior_i] = 0\n",
    "lattice_identities[bc_noslip_i] = 1\n",
    "lattice_identities[bc_inlet_i] = 2\n",
    "lattice_identities[bc_outlet_i] = 3 + outflow_dir\n",
    "\n",
    "plt.figure(figsize=(15,15))\n",
    "plt.scatter(lattice[top_left_block,0], lattice[top_left_block,1], color=\"r\")\n",
    "plt.scatter(lattice[bc_noslip_i,0], lattice[bc_noslip_i,1], color=\"violet\")\n",
    "plt.scatter(lattice[bc_outlet_i,0], lattice[bc_outlet_i,1], color=\"cyan\")\n",
    "plt.scatter(lattice[bc_inlet_i,0], lattice[bc_inlet_i,1], color=\"skyblue\")\n",
    "plt.scatter(lattice[interior_i,0], lattice[interior_i,1], color=\"lightgrey\")\n",
    "plt.xlim(grid_xlim)\n",
    "plt.ylim(grid_ylim)\n",
    "plt.gca().set_aspect('equal')"
   ]
  },
  {
   "cell_type": "code",
   "execution_count": 188,
   "metadata": {
    "collapsed": false
   },
   "outputs": [],
   "source": [
    "u_inlet = np.zeros((n_points, 2))\n",
    "u_inlet[bc_inlet_i,:] = np.array([0.04, 0.0])[np.newaxis,:]\n",
    "rho_inlet = np.ones((n_points)) * 1.0\n",
    "rho_inlet[bc_noslip_i] = 0.0"
   ]
  },
  {
   "cell_type": "code",
   "execution_count": 189,
   "metadata": {
    "collapsed": false
   },
   "outputs": [],
   "source": [
    "# set initial conditions: velocity on the inflow boundary + equal density everywhere\n",
    "initial_u = np.zeros((n_points, 2))\n",
    "initial_u[:,:] = u_inlet[:,:]\n",
    "\n",
    "initial_rho = np.zeros((n_points))\n",
    "initial_rho[:] = rho_inlet[:]"
   ]
  },
  {
   "cell_type": "code",
   "execution_count": 190,
   "metadata": {
    "collapsed": true
   },
   "outputs": [],
   "source": [
    "np.savez(\"in.npz\",\n",
    "         lattice      = lattice,\n",
    "         link_list    = link_list,\n",
    "         lattice_identities   = lattice_identities,\n",
    "         q            = np.array([q], dtype=np.int),\n",
    "         bb_dir       = bb_dir,\n",
    "         u_inlet      = u_inlet,\n",
    "         omega        = np.array([omega]),\n",
    "         rho_inlet    = rho_inlet,\n",
    "         e            = e,\n",
    "         w_e          = w_e,\n",
    "         initial_rho  = initial_rho,\n",
    "         initial_u    = initial_u,\n",
    "         num_iter     = np.array([num_iter], dtype=np.int),\n",
    "         num_threads  = np.array([num_threads], dtype=np.int)\n",
    "        )"
   ]
  },
  {
   "cell_type": "code",
   "execution_count": 191,
   "metadata": {
    "collapsed": false
   },
   "outputs": [
    {
     "name": "stdout",
     "output_type": "stream",
     "text": [
      ">>> Starting simulation with 69600 grid points and 3000 iterations with OpenMP\n",
      ">>> Simulation progress: 0%\n",
      ">>> Simulation progress: 10%\n",
      ">>> Simulation progress: 20%\n",
      ">>> Simulation progress: 30%\n",
      ">>> Simulation progress: 40%\n",
      ">>> Simulation progress: 50%\n",
      ">>> Simulation progress: 60%\n",
      ">>> Simulation progress: 70%\n",
      ">>> Simulation progress: 80%\n",
      ">>> Simulation progress: 90%\n",
      ">>> Finished in 10.8607 s\n"
     ]
    }
   ],
   "source": [
    "cmd = \"./comp-phys-lb-worker\"\n",
    "\n",
    "p = subprocess.Popen(cmd,\n",
    "                     stdout=subprocess.PIPE,\n",
    "                     stderr=subprocess.STDOUT)\n",
    "\n",
    "for line in iter(p.stdout.readline, b''):\n",
    "    print(\">>> \" + line.decode(\"utf-8\").rstrip())\n",
    "    \n",
    "p.stdout.close()"
   ]
  },
  {
   "cell_type": "code",
   "execution_count": 192,
   "metadata": {
    "collapsed": false
   },
   "outputs": [],
   "source": [
    "data = np.load(\"out.npz\")\n",
    "\n",
    "u = data[\"u\"]\n",
    "rho = data[\"rho\"]\n",
    "lattice = data[\"lattice\"]\n",
    "link_list = data[\"link_list\"]\n",
    "l_id = data[\"lattice_identities\"]"
   ]
  },
  {
   "cell_type": "code",
   "execution_count": 193,
   "metadata": {
    "collapsed": false
   },
   "outputs": [
    {
     "data": {
      "image/png": "[encoded data removed]",
      "text/plain": [
       "<matplotlib.figure.Figure at 0x112c025c0>"
      ]
     },
     "metadata": {},
     "output_type": "display_data"
    }
   ],
   "source": [
    "plt.figure(figsize=(10, 10))\n",
    "# quiver grid\n",
    "\n",
    "u[bc_noslip_i,:] = 0.0\n",
    "sp = 10\n",
    "quiver_i = np.array(np.ravel(grid_xi[::sp, ::sp] * y_points + grid_yi[::sp, ::sp]), dtype=np.int)\n",
    "\n",
    "plt.quiver(lattice[quiver_i,0], lattice[quiver_i,1], u[quiver_i,0], u[quiver_i,1])\n",
    "plt.gca().set_aspect('equal')\n",
    "\n",
    "plt.show()"
   ]
  },
  {
   "cell_type": "code",
   "execution_count": 194,
   "metadata": {
    "collapsed": false
   },
   "outputs": [
    {
     "ename": "RuntimeWarning",
     "evalue": "invalid value encountered in greater",
     "output_type": "error",
     "traceback": [
      "\u001b[0;31m---------------------------------------------------------------------------\u001b[0m",
      "\u001b[0;31mRuntimeWarning\u001b[0m                            Traceback (most recent call last)",
      "\u001b[0;32m<ipython-input-194-e7a9743c2995>\u001b[0m in \u001b[0;36m<module>\u001b[0;34m()\u001b[0m\n\u001b[1;32m      4\u001b[0m \u001b[0mu_grid\u001b[0m \u001b[0;34m=\u001b[0m \u001b[0mu\u001b[0m\u001b[0;34m.\u001b[0m\u001b[0mreshape\u001b[0m\u001b[0;34m(\u001b[0m\u001b[0mN_x\u001b[0m\u001b[0;34m,\u001b[0m\u001b[0mN_y\u001b[0m\u001b[0;34m,\u001b[0m\u001b[0;36m2\u001b[0m\u001b[0;34m)\u001b[0m\u001b[0;34m\u001b[0m\u001b[0m\n\u001b[1;32m      5\u001b[0m \u001b[0;34m\u001b[0m\u001b[0m\n\u001b[0;32m----> 6\u001b[0;31m \u001b[0mrho_min\u001b[0m \u001b[0;34m=\u001b[0m \u001b[0mnp\u001b[0m\u001b[0;34m.\u001b[0m\u001b[0mmin\u001b[0m\u001b[0;34m(\u001b[0m\u001b[0mrho\u001b[0m\u001b[0;34m[\u001b[0m\u001b[0mrho\u001b[0m \u001b[0;34m>\u001b[0m \u001b[0;36m0.5\u001b[0m\u001b[0;34m]\u001b[0m\u001b[0;34m)\u001b[0m\u001b[0;34m\u001b[0m\u001b[0m\n\u001b[0m\u001b[1;32m      7\u001b[0m \u001b[0mrho_max\u001b[0m \u001b[0;34m=\u001b[0m \u001b[0mnp\u001b[0m\u001b[0;34m.\u001b[0m\u001b[0mmax\u001b[0m\u001b[0;34m(\u001b[0m\u001b[0mrho\u001b[0m\u001b[0;34m)\u001b[0m\u001b[0;34m\u001b[0m\u001b[0m\n\u001b[1;32m      8\u001b[0m \u001b[0;34m\u001b[0m\u001b[0m\n",
      "\u001b[0;31mRuntimeWarning\u001b[0m: invalid value encountered in greater"
     ]
    }
   ],
   "source": [
    "# plot results: density and magnitude of the velocity\n",
    "\n",
    "lattice_grid = lattice.reshape(N_x,N_y,2)\n",
    "u_grid = u.reshape(N_x,N_y,2)\n",
    "\n",
    "rho_min = np.min(rho[rho > 0.5])\n",
    "rho_max = np.max(rho)\n",
    "\n",
    "plt.pcolor(lattice_grid[:,:,0], lattice_grid[:,:,1], rho.reshape(N_x, N_y), vmin=rho_min, vmax=rho_max)\n",
    "plt.colorbar()\n",
    "xlims = plt.xlim()\n",
    "ylims = plt.ylim()\n",
    "#plt.scatter(lattice[obstacle_i,0],lattice[obstacle_i,1], color=\"violet\")\n",
    "plt.xlim(xlims)\n",
    "plt.ylim(ylims)\n",
    "\n",
    "plt.show()\n",
    "\n",
    "plt.figure()\n",
    "plt.pcolor(lattice_grid[:,:,0], lattice_grid[:,:,1], np.linalg.norm(u_grid, axis=2))\n",
    "plt.colorbar()\n",
    "xlims = plt.xlim()\n",
    "ylims = plt.ylim()\n",
    "#plt.scatter(lattice[obstacle_i,0],lattice[obstacle_i,1], color=\"violet\")\n",
    "plt.xlim(xlims)\n",
    "plt.ylim(ylims)\n",
    "plt.show()"
   ]
  },
  {
   "cell_type": "code",
   "execution_count": null,
   "metadata": {
    "collapsed": false
   },
   "outputs": [],
   "source": [
    "rho"
   ]
  },
  {
   "cell_type": "code",
   "execution_count": null,
   "metadata": {
    "collapsed": true
   },
   "outputs": [],
   "source": []
  },
  {
   "cell_type": "code",
   "execution_count": null,
   "metadata": {
    "collapsed": true
   },
   "outputs": [],
   "source": []
  }
 ],
 "metadata": {
  "kernelspec": {
   "display_name": "Python 3",
   "language": "python",
   "name": "python3"
  },
  "language_info": {
   "codemirror_mode": {
    "name": "ipython",
    "version": 3
   },
   "file_extension": ".py",
   "mimetype": "text/x-python",
   "name": "python",
   "nbconvert_exporter": "python",
   "pygments_lexer": "ipython3",
   "version": "3.5.1"
  }
 },
 "nbformat": 4,
 "nbformat_minor": 0
}
